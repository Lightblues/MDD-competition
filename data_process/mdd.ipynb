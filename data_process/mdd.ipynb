{
 "cells": [
  {
   "cell_type": "code",
   "execution_count": 1,
   "source": [
    "import pandas as pd\n",
    "import numpy as np\n",
    "import pickle\n",
    "import random\n",
    "from tqdm import tqdm\n",
    "from tensorflow.keras.preprocessing.sequence import pad_sequences\n",
    "\n",
    "from sklearn.preprocessing import LabelEncoder\n",
    "from sklearn.model_selection import train_test_split\n",
    "\n",
    "# npois = 29071\n",
    "# nspus = 179778\n",
    "\n",
    "npois = 29924\n",
    "nusers = 200000\n",
    "# nspus = 195244"
   ],
   "outputs": [],
   "metadata": {
    "collapsed": true
   }
  },
  {
   "cell_type": "code",
   "execution_count": 3,
   "source": [
    "datapath = \"../data/SMP新数据-20210607-20210702/\"\n",
    "d_session = pd.read_csv(datapath+\"orders_poi_session.txt\", sep='\\t')\n",
    "d_train = pd.read_csv(datapath+\"orders_train.txt\", encoding=\"utf-8\", sep='\\t')\n",
    "d_test = pd.read_csv(datapath + \"orders_test_poi.txt\", encoding=\"utf-8\", sep='\\t')"
   ],
   "outputs": [],
   "metadata": {}
  },
  {
   "cell_type": "code",
   "execution_count": 4,
   "source": [
    "d_session.head()"
   ],
   "outputs": [
    {
     "output_type": "execute_result",
     "data": {
      "text/plain": [
       "   wm_order_id                    clicks        dt\n",
       "0         1103                 2168#1884  20210607\n",
       "1        24171                       NaN  20210607\n",
       "2        27913            1371#1494#3518  20210607\n",
       "3        24875  1901#1901#1901#1901#2398  20210607\n",
       "4        23149                       NaN  20210607"
      ],
      "text/html": [
       "<div>\n",
       "<style scoped>\n",
       "    .dataframe tbody tr th:only-of-type {\n",
       "        vertical-align: middle;\n",
       "    }\n",
       "\n",
       "    .dataframe tbody tr th {\n",
       "        vertical-align: top;\n",
       "    }\n",
       "\n",
       "    .dataframe thead th {\n",
       "        text-align: right;\n",
       "    }\n",
       "</style>\n",
       "<table border=\"1\" class=\"dataframe\">\n",
       "  <thead>\n",
       "    <tr style=\"text-align: right;\">\n",
       "      <th></th>\n",
       "      <th>wm_order_id</th>\n",
       "      <th>clicks</th>\n",
       "      <th>dt</th>\n",
       "    </tr>\n",
       "  </thead>\n",
       "  <tbody>\n",
       "    <tr>\n",
       "      <th>0</th>\n",
       "      <td>1103</td>\n",
       "      <td>2168#1884</td>\n",
       "      <td>20210607</td>\n",
       "    </tr>\n",
       "    <tr>\n",
       "      <th>1</th>\n",
       "      <td>24171</td>\n",
       "      <td>NaN</td>\n",
       "      <td>20210607</td>\n",
       "    </tr>\n",
       "    <tr>\n",
       "      <th>2</th>\n",
       "      <td>27913</td>\n",
       "      <td>1371#1494#3518</td>\n",
       "      <td>20210607</td>\n",
       "    </tr>\n",
       "    <tr>\n",
       "      <th>3</th>\n",
       "      <td>24875</td>\n",
       "      <td>1901#1901#1901#1901#2398</td>\n",
       "      <td>20210607</td>\n",
       "    </tr>\n",
       "    <tr>\n",
       "      <th>4</th>\n",
       "      <td>23149</td>\n",
       "      <td>NaN</td>\n",
       "      <td>20210607</td>\n",
       "    </tr>\n",
       "  </tbody>\n",
       "</table>\n",
       "</div>"
      ]
     },
     "metadata": {},
     "execution_count": 4
    }
   ],
   "metadata": {}
  },
  {
   "cell_type": "code",
   "execution_count": 5,
   "source": [
    "d_train.head()"
   ],
   "outputs": [
    {
     "output_type": "execute_result",
     "data": {
      "text/plain": [
       "   user_id  wm_order_id  wm_poi_id  aor_id order_price_interval  \\\n",
       "0   178557            0       2334       6                  <29   \n",
       "1   175118            1       3315       0                  <29   \n",
       "2    36208            2       2168       0                  <29   \n",
       "3   102798            3       3071       0              [29,36)   \n",
       "4    73712            4       2902       0              [49,65)   \n",
       "\n",
       "   order_timestamp  ord_period_name order_scene_name  aoi_id  \\\n",
       "0       1623061539                3                0     NaN   \n",
       "1       1623032193                1                1     0.0   \n",
       "2       1623036350                1                0     1.0   \n",
       "3       1623071723                4                0     2.0   \n",
       "4       1623020472                0                2     3.0   \n",
       "\n",
       "  takedlvr_aoi_type_name        dt  \n",
       "0                     未知  20210607  \n",
       "1                      0  20210607  \n",
       "2                      0  20210607  \n",
       "3                      0  20210607  \n",
       "4                      1  20210607  "
      ],
      "text/html": [
       "<div>\n",
       "<style scoped>\n",
       "    .dataframe tbody tr th:only-of-type {\n",
       "        vertical-align: middle;\n",
       "    }\n",
       "\n",
       "    .dataframe tbody tr th {\n",
       "        vertical-align: top;\n",
       "    }\n",
       "\n",
       "    .dataframe thead th {\n",
       "        text-align: right;\n",
       "    }\n",
       "</style>\n",
       "<table border=\"1\" class=\"dataframe\">\n",
       "  <thead>\n",
       "    <tr style=\"text-align: right;\">\n",
       "      <th></th>\n",
       "      <th>user_id</th>\n",
       "      <th>wm_order_id</th>\n",
       "      <th>wm_poi_id</th>\n",
       "      <th>aor_id</th>\n",
       "      <th>order_price_interval</th>\n",
       "      <th>order_timestamp</th>\n",
       "      <th>ord_period_name</th>\n",
       "      <th>order_scene_name</th>\n",
       "      <th>aoi_id</th>\n",
       "      <th>takedlvr_aoi_type_name</th>\n",
       "      <th>dt</th>\n",
       "    </tr>\n",
       "  </thead>\n",
       "  <tbody>\n",
       "    <tr>\n",
       "      <th>0</th>\n",
       "      <td>178557</td>\n",
       "      <td>0</td>\n",
       "      <td>2334</td>\n",
       "      <td>6</td>\n",
       "      <td>&lt;29</td>\n",
       "      <td>1623061539</td>\n",
       "      <td>3</td>\n",
       "      <td>0</td>\n",
       "      <td>NaN</td>\n",
       "      <td>未知</td>\n",
       "      <td>20210607</td>\n",
       "    </tr>\n",
       "    <tr>\n",
       "      <th>1</th>\n",
       "      <td>175118</td>\n",
       "      <td>1</td>\n",
       "      <td>3315</td>\n",
       "      <td>0</td>\n",
       "      <td>&lt;29</td>\n",
       "      <td>1623032193</td>\n",
       "      <td>1</td>\n",
       "      <td>1</td>\n",
       "      <td>0.0</td>\n",
       "      <td>0</td>\n",
       "      <td>20210607</td>\n",
       "    </tr>\n",
       "    <tr>\n",
       "      <th>2</th>\n",
       "      <td>36208</td>\n",
       "      <td>2</td>\n",
       "      <td>2168</td>\n",
       "      <td>0</td>\n",
       "      <td>&lt;29</td>\n",
       "      <td>1623036350</td>\n",
       "      <td>1</td>\n",
       "      <td>0</td>\n",
       "      <td>1.0</td>\n",
       "      <td>0</td>\n",
       "      <td>20210607</td>\n",
       "    </tr>\n",
       "    <tr>\n",
       "      <th>3</th>\n",
       "      <td>102798</td>\n",
       "      <td>3</td>\n",
       "      <td>3071</td>\n",
       "      <td>0</td>\n",
       "      <td>[29,36)</td>\n",
       "      <td>1623071723</td>\n",
       "      <td>4</td>\n",
       "      <td>0</td>\n",
       "      <td>2.0</td>\n",
       "      <td>0</td>\n",
       "      <td>20210607</td>\n",
       "    </tr>\n",
       "    <tr>\n",
       "      <th>4</th>\n",
       "      <td>73712</td>\n",
       "      <td>4</td>\n",
       "      <td>2902</td>\n",
       "      <td>0</td>\n",
       "      <td>[49,65)</td>\n",
       "      <td>1623020472</td>\n",
       "      <td>0</td>\n",
       "      <td>2</td>\n",
       "      <td>3.0</td>\n",
       "      <td>1</td>\n",
       "      <td>20210607</td>\n",
       "    </tr>\n",
       "  </tbody>\n",
       "</table>\n",
       "</div>"
      ]
     },
     "metadata": {},
     "execution_count": 5
    }
   ],
   "metadata": {}
  },
  {
   "cell_type": "code",
   "execution_count": 19,
   "source": [
    "print(d_train.shape, d_session.shape, d_test.shape)\n",
    "print(d_train.isna().sum(axis=0))"
   ],
   "outputs": [
    {
     "output_type": "stream",
     "name": "stdout",
     "text": [
      "(1071873, 11) (1303169, 3)\n",
      "user_id                       0\n",
      "wm_order_id                   0\n",
      "wm_poi_id                     0\n",
      "aor_id                        0\n",
      "order_price_interval          0\n",
      "order_timestamp               0\n",
      "ord_period_name               0\n",
      "order_scene_name              0\n",
      "aoi_id                    54155\n",
      "takedlvr_aoi_type_name        0\n",
      "dt                            0\n",
      "dtype: int64\n"
     ]
    }
   ],
   "metadata": {}
  },
  {
   "cell_type": "code",
   "execution_count": 4,
   "source": [
    "d_train.info()"
   ],
   "outputs": [
    {
     "output_type": "stream",
     "name": "stdout",
     "text": [
      "<class 'pandas.core.frame.DataFrame'>\n",
      "RangeIndex: 1071873 entries, 0 to 1071872\n",
      "Data columns (total 11 columns):\n",
      " #   Column                  Non-Null Count    Dtype  \n",
      "---  ------                  --------------    -----  \n",
      " 0   user_id                 1071873 non-null  int64  \n",
      " 1   wm_order_id             1071873 non-null  int64  \n",
      " 2   wm_poi_id               1071873 non-null  int64  \n",
      " 3   aor_id                  1071873 non-null  int64  \n",
      " 4   order_price_interval    1071873 non-null  object \n",
      " 5   order_timestamp         1071873 non-null  int64  \n",
      " 6   ord_period_name         1071873 non-null  int64  \n",
      " 7   order_scene_name        1071873 non-null  object \n",
      " 8   aoi_id                  1017718 non-null  float64\n",
      " 9   takedlvr_aoi_type_name  1071873 non-null  object \n",
      " 10  dt                      1071873 non-null  int64  \n",
      "dtypes: float64(1), int64(7), object(3)\n",
      "memory usage: 90.0+ MB\n"
     ]
    }
   ],
   "metadata": {}
  },
  {
   "cell_type": "code",
   "execution_count": 8,
   "source": [
    "d_train.describe(include='all')"
   ],
   "outputs": [
    {
     "output_type": "execute_result",
     "data": {
      "text/plain": [
       "             user_id   wm_order_id     wm_poi_id        aor_id  \\\n",
       "count   1.071873e+06  1.071873e+06  1.071873e+06  1.071873e+06   \n",
       "unique           NaN           NaN           NaN           NaN   \n",
       "top              NaN           NaN           NaN           NaN   \n",
       "freq             NaN           NaN           NaN           NaN   \n",
       "mean    1.000228e+05  5.359360e+05  1.777230e+03  4.439300e+00   \n",
       "std     5.769536e+04  3.094232e+05  1.043924e+03  3.464722e+00   \n",
       "min     0.000000e+00  0.000000e+00  0.000000e+00  0.000000e+00   \n",
       "25%     5.013900e+04  2.679680e+05  8.680000e+02  1.000000e+00   \n",
       "50%     1.000340e+05  5.359360e+05  1.804000e+03  5.000000e+00   \n",
       "75%     1.500410e+05  8.039040e+05  2.674000e+03  8.000000e+00   \n",
       "max     1.999990e+05  1.071872e+06  3.576000e+03  1.000000e+01   \n",
       "\n",
       "       order_price_interval  order_timestamp  ord_period_name  \\\n",
       "count               1071873     1.071873e+06     1.071873e+06   \n",
       "unique                    5              NaN              NaN   \n",
       "top                     <29              NaN              NaN   \n",
       "freq                 468813              NaN              NaN   \n",
       "mean                    NaN     1.623924e+09     1.840656e+00   \n",
       "std                     NaN     5.238255e+05     1.158654e+00   \n",
       "min                     NaN     1.622995e+09     0.000000e+00   \n",
       "25%                     NaN     1.623468e+09     1.000000e+00   \n",
       "50%                     NaN     1.623929e+09     1.000000e+00   \n",
       "75%                     NaN     1.624366e+09     3.000000e+00   \n",
       "max                     NaN     1.624810e+09     4.000000e+00   \n",
       "\n",
       "       order_scene_name        aoi_id takedlvr_aoi_type_name            dt  \n",
       "count           1071873  1.017718e+06                1071873  1.071873e+06  \n",
       "unique               10           NaN                     13           NaN  \n",
       "top                   0           NaN                      0           NaN  \n",
       "freq             529986           NaN                 563140           NaN  \n",
       "mean                NaN  1.009528e+03                    NaN  2.021062e+07  \n",
       "std                 NaN  7.782196e+02                    NaN  6.060936e+00  \n",
       "min                 NaN  0.000000e+00                    NaN  2.021061e+07  \n",
       "25%                 NaN  3.260000e+02                    NaN  2.021061e+07  \n",
       "50%                 NaN  8.540000e+02                    NaN  2.021062e+07  \n",
       "75%                 NaN  1.687000e+03                    NaN  2.021062e+07  \n",
       "max                 NaN  3.623000e+03                    NaN  2.021063e+07  "
      ],
      "text/html": [
       "<div>\n",
       "<style scoped>\n",
       "    .dataframe tbody tr th:only-of-type {\n",
       "        vertical-align: middle;\n",
       "    }\n",
       "\n",
       "    .dataframe tbody tr th {\n",
       "        vertical-align: top;\n",
       "    }\n",
       "\n",
       "    .dataframe thead th {\n",
       "        text-align: right;\n",
       "    }\n",
       "</style>\n",
       "<table border=\"1\" class=\"dataframe\">\n",
       "  <thead>\n",
       "    <tr style=\"text-align: right;\">\n",
       "      <th></th>\n",
       "      <th>user_id</th>\n",
       "      <th>wm_order_id</th>\n",
       "      <th>wm_poi_id</th>\n",
       "      <th>aor_id</th>\n",
       "      <th>order_price_interval</th>\n",
       "      <th>order_timestamp</th>\n",
       "      <th>ord_period_name</th>\n",
       "      <th>order_scene_name</th>\n",
       "      <th>aoi_id</th>\n",
       "      <th>takedlvr_aoi_type_name</th>\n",
       "      <th>dt</th>\n",
       "    </tr>\n",
       "  </thead>\n",
       "  <tbody>\n",
       "    <tr>\n",
       "      <th>count</th>\n",
       "      <td>1.071873e+06</td>\n",
       "      <td>1.071873e+06</td>\n",
       "      <td>1.071873e+06</td>\n",
       "      <td>1.071873e+06</td>\n",
       "      <td>1071873</td>\n",
       "      <td>1.071873e+06</td>\n",
       "      <td>1.071873e+06</td>\n",
       "      <td>1071873</td>\n",
       "      <td>1.017718e+06</td>\n",
       "      <td>1071873</td>\n",
       "      <td>1.071873e+06</td>\n",
       "    </tr>\n",
       "    <tr>\n",
       "      <th>unique</th>\n",
       "      <td>NaN</td>\n",
       "      <td>NaN</td>\n",
       "      <td>NaN</td>\n",
       "      <td>NaN</td>\n",
       "      <td>5</td>\n",
       "      <td>NaN</td>\n",
       "      <td>NaN</td>\n",
       "      <td>10</td>\n",
       "      <td>NaN</td>\n",
       "      <td>13</td>\n",
       "      <td>NaN</td>\n",
       "    </tr>\n",
       "    <tr>\n",
       "      <th>top</th>\n",
       "      <td>NaN</td>\n",
       "      <td>NaN</td>\n",
       "      <td>NaN</td>\n",
       "      <td>NaN</td>\n",
       "      <td>&lt;29</td>\n",
       "      <td>NaN</td>\n",
       "      <td>NaN</td>\n",
       "      <td>0</td>\n",
       "      <td>NaN</td>\n",
       "      <td>0</td>\n",
       "      <td>NaN</td>\n",
       "    </tr>\n",
       "    <tr>\n",
       "      <th>freq</th>\n",
       "      <td>NaN</td>\n",
       "      <td>NaN</td>\n",
       "      <td>NaN</td>\n",
       "      <td>NaN</td>\n",
       "      <td>468813</td>\n",
       "      <td>NaN</td>\n",
       "      <td>NaN</td>\n",
       "      <td>529986</td>\n",
       "      <td>NaN</td>\n",
       "      <td>563140</td>\n",
       "      <td>NaN</td>\n",
       "    </tr>\n",
       "    <tr>\n",
       "      <th>mean</th>\n",
       "      <td>1.000228e+05</td>\n",
       "      <td>5.359360e+05</td>\n",
       "      <td>1.777230e+03</td>\n",
       "      <td>4.439300e+00</td>\n",
       "      <td>NaN</td>\n",
       "      <td>1.623924e+09</td>\n",
       "      <td>1.840656e+00</td>\n",
       "      <td>NaN</td>\n",
       "      <td>1.009528e+03</td>\n",
       "      <td>NaN</td>\n",
       "      <td>2.021062e+07</td>\n",
       "    </tr>\n",
       "    <tr>\n",
       "      <th>std</th>\n",
       "      <td>5.769536e+04</td>\n",
       "      <td>3.094232e+05</td>\n",
       "      <td>1.043924e+03</td>\n",
       "      <td>3.464722e+00</td>\n",
       "      <td>NaN</td>\n",
       "      <td>5.238255e+05</td>\n",
       "      <td>1.158654e+00</td>\n",
       "      <td>NaN</td>\n",
       "      <td>7.782196e+02</td>\n",
       "      <td>NaN</td>\n",
       "      <td>6.060936e+00</td>\n",
       "    </tr>\n",
       "    <tr>\n",
       "      <th>min</th>\n",
       "      <td>0.000000e+00</td>\n",
       "      <td>0.000000e+00</td>\n",
       "      <td>0.000000e+00</td>\n",
       "      <td>0.000000e+00</td>\n",
       "      <td>NaN</td>\n",
       "      <td>1.622995e+09</td>\n",
       "      <td>0.000000e+00</td>\n",
       "      <td>NaN</td>\n",
       "      <td>0.000000e+00</td>\n",
       "      <td>NaN</td>\n",
       "      <td>2.021061e+07</td>\n",
       "    </tr>\n",
       "    <tr>\n",
       "      <th>25%</th>\n",
       "      <td>5.013900e+04</td>\n",
       "      <td>2.679680e+05</td>\n",
       "      <td>8.680000e+02</td>\n",
       "      <td>1.000000e+00</td>\n",
       "      <td>NaN</td>\n",
       "      <td>1.623468e+09</td>\n",
       "      <td>1.000000e+00</td>\n",
       "      <td>NaN</td>\n",
       "      <td>3.260000e+02</td>\n",
       "      <td>NaN</td>\n",
       "      <td>2.021061e+07</td>\n",
       "    </tr>\n",
       "    <tr>\n",
       "      <th>50%</th>\n",
       "      <td>1.000340e+05</td>\n",
       "      <td>5.359360e+05</td>\n",
       "      <td>1.804000e+03</td>\n",
       "      <td>5.000000e+00</td>\n",
       "      <td>NaN</td>\n",
       "      <td>1.623929e+09</td>\n",
       "      <td>1.000000e+00</td>\n",
       "      <td>NaN</td>\n",
       "      <td>8.540000e+02</td>\n",
       "      <td>NaN</td>\n",
       "      <td>2.021062e+07</td>\n",
       "    </tr>\n",
       "    <tr>\n",
       "      <th>75%</th>\n",
       "      <td>1.500410e+05</td>\n",
       "      <td>8.039040e+05</td>\n",
       "      <td>2.674000e+03</td>\n",
       "      <td>8.000000e+00</td>\n",
       "      <td>NaN</td>\n",
       "      <td>1.624366e+09</td>\n",
       "      <td>3.000000e+00</td>\n",
       "      <td>NaN</td>\n",
       "      <td>1.687000e+03</td>\n",
       "      <td>NaN</td>\n",
       "      <td>2.021062e+07</td>\n",
       "    </tr>\n",
       "    <tr>\n",
       "      <th>max</th>\n",
       "      <td>1.999990e+05</td>\n",
       "      <td>1.071872e+06</td>\n",
       "      <td>3.576000e+03</td>\n",
       "      <td>1.000000e+01</td>\n",
       "      <td>NaN</td>\n",
       "      <td>1.624810e+09</td>\n",
       "      <td>4.000000e+00</td>\n",
       "      <td>NaN</td>\n",
       "      <td>3.623000e+03</td>\n",
       "      <td>NaN</td>\n",
       "      <td>2.021063e+07</td>\n",
       "    </tr>\n",
       "  </tbody>\n",
       "</table>\n",
       "</div>"
      ]
     },
     "metadata": {},
     "execution_count": 8
    }
   ],
   "metadata": {}
  },
  {
   "cell_type": "code",
   "execution_count": 5,
   "source": [
    "d_test.describe(include='all')"
   ],
   "outputs": [
    {
     "output_type": "stream",
     "name": "stdout",
     "text": [
      "(168546, 8)\n"
     ]
    },
    {
     "output_type": "execute_result",
     "data": {
      "text/plain": [
       "              user_id   wm_order_id         aor_id  order_timestamp  \\\n",
       "count   168546.000000  1.685460e+05  168546.000000     1.685460e+05   \n",
       "unique            NaN           NaN            NaN              NaN   \n",
       "top               NaN           NaN            NaN              NaN   \n",
       "freq              NaN           NaN            NaN              NaN   \n",
       "mean    100271.585698  1.177108e+06       4.395032     1.625032e+09   \n",
       "std      57684.884797  6.100667e+04       3.488756     1.247021e+05   \n",
       "min          0.000000  1.071874e+06       0.000000     1.624810e+09   \n",
       "25%      50524.000000  1.123957e+06       1.000000     1.624936e+09   \n",
       "50%     100338.500000  1.177038e+06       4.000000     1.625026e+09   \n",
       "75%     150272.000000  1.230027e+06       8.000000     1.625135e+09   \n",
       "max     199998.000000  1.282847e+06      10.000000     1.625242e+09   \n",
       "\n",
       "        ord_period_name         aoi_id takedlvr_aoi_type_name            dt  \n",
       "count     168546.000000  161142.000000                 168546  1.685460e+05  \n",
       "unique              NaN            NaN                     13           NaN  \n",
       "top                 NaN            NaN                      0           NaN  \n",
       "freq                NaN            NaN                  85179           NaN  \n",
       "mean           1.813730    1022.164153                    NaN  2.021066e+07  \n",
       "std            1.137473     794.212080                    NaN  3.544080e+01  \n",
       "min            0.000000       0.000000                    NaN  2.021063e+07  \n",
       "25%            1.000000     330.000000                    NaN  2.021063e+07  \n",
       "50%            1.000000     863.000000                    NaN  2.021063e+07  \n",
       "75%            3.000000    1691.000000                    NaN  2.021070e+07  \n",
       "max            4.000000    3669.000000                    NaN  2.021070e+07  "
      ],
      "text/html": [
       "<div>\n",
       "<style scoped>\n",
       "    .dataframe tbody tr th:only-of-type {\n",
       "        vertical-align: middle;\n",
       "    }\n",
       "\n",
       "    .dataframe tbody tr th {\n",
       "        vertical-align: top;\n",
       "    }\n",
       "\n",
       "    .dataframe thead th {\n",
       "        text-align: right;\n",
       "    }\n",
       "</style>\n",
       "<table border=\"1\" class=\"dataframe\">\n",
       "  <thead>\n",
       "    <tr style=\"text-align: right;\">\n",
       "      <th></th>\n",
       "      <th>user_id</th>\n",
       "      <th>wm_order_id</th>\n",
       "      <th>aor_id</th>\n",
       "      <th>order_timestamp</th>\n",
       "      <th>ord_period_name</th>\n",
       "      <th>aoi_id</th>\n",
       "      <th>takedlvr_aoi_type_name</th>\n",
       "      <th>dt</th>\n",
       "    </tr>\n",
       "  </thead>\n",
       "  <tbody>\n",
       "    <tr>\n",
       "      <th>count</th>\n",
       "      <td>168546.000000</td>\n",
       "      <td>1.685460e+05</td>\n",
       "      <td>168546.000000</td>\n",
       "      <td>1.685460e+05</td>\n",
       "      <td>168546.000000</td>\n",
       "      <td>161142.000000</td>\n",
       "      <td>168546</td>\n",
       "      <td>1.685460e+05</td>\n",
       "    </tr>\n",
       "    <tr>\n",
       "      <th>unique</th>\n",
       "      <td>NaN</td>\n",
       "      <td>NaN</td>\n",
       "      <td>NaN</td>\n",
       "      <td>NaN</td>\n",
       "      <td>NaN</td>\n",
       "      <td>NaN</td>\n",
       "      <td>13</td>\n",
       "      <td>NaN</td>\n",
       "    </tr>\n",
       "    <tr>\n",
       "      <th>top</th>\n",
       "      <td>NaN</td>\n",
       "      <td>NaN</td>\n",
       "      <td>NaN</td>\n",
       "      <td>NaN</td>\n",
       "      <td>NaN</td>\n",
       "      <td>NaN</td>\n",
       "      <td>0</td>\n",
       "      <td>NaN</td>\n",
       "    </tr>\n",
       "    <tr>\n",
       "      <th>freq</th>\n",
       "      <td>NaN</td>\n",
       "      <td>NaN</td>\n",
       "      <td>NaN</td>\n",
       "      <td>NaN</td>\n",
       "      <td>NaN</td>\n",
       "      <td>NaN</td>\n",
       "      <td>85179</td>\n",
       "      <td>NaN</td>\n",
       "    </tr>\n",
       "    <tr>\n",
       "      <th>mean</th>\n",
       "      <td>100271.585698</td>\n",
       "      <td>1.177108e+06</td>\n",
       "      <td>4.395032</td>\n",
       "      <td>1.625032e+09</td>\n",
       "      <td>1.813730</td>\n",
       "      <td>1022.164153</td>\n",
       "      <td>NaN</td>\n",
       "      <td>2.021066e+07</td>\n",
       "    </tr>\n",
       "    <tr>\n",
       "      <th>std</th>\n",
       "      <td>57684.884797</td>\n",
       "      <td>6.100667e+04</td>\n",
       "      <td>3.488756</td>\n",
       "      <td>1.247021e+05</td>\n",
       "      <td>1.137473</td>\n",
       "      <td>794.212080</td>\n",
       "      <td>NaN</td>\n",
       "      <td>3.544080e+01</td>\n",
       "    </tr>\n",
       "    <tr>\n",
       "      <th>min</th>\n",
       "      <td>0.000000</td>\n",
       "      <td>1.071874e+06</td>\n",
       "      <td>0.000000</td>\n",
       "      <td>1.624810e+09</td>\n",
       "      <td>0.000000</td>\n",
       "      <td>0.000000</td>\n",
       "      <td>NaN</td>\n",
       "      <td>2.021063e+07</td>\n",
       "    </tr>\n",
       "    <tr>\n",
       "      <th>25%</th>\n",
       "      <td>50524.000000</td>\n",
       "      <td>1.123957e+06</td>\n",
       "      <td>1.000000</td>\n",
       "      <td>1.624936e+09</td>\n",
       "      <td>1.000000</td>\n",
       "      <td>330.000000</td>\n",
       "      <td>NaN</td>\n",
       "      <td>2.021063e+07</td>\n",
       "    </tr>\n",
       "    <tr>\n",
       "      <th>50%</th>\n",
       "      <td>100338.500000</td>\n",
       "      <td>1.177038e+06</td>\n",
       "      <td>4.000000</td>\n",
       "      <td>1.625026e+09</td>\n",
       "      <td>1.000000</td>\n",
       "      <td>863.000000</td>\n",
       "      <td>NaN</td>\n",
       "      <td>2.021063e+07</td>\n",
       "    </tr>\n",
       "    <tr>\n",
       "      <th>75%</th>\n",
       "      <td>150272.000000</td>\n",
       "      <td>1.230027e+06</td>\n",
       "      <td>8.000000</td>\n",
       "      <td>1.625135e+09</td>\n",
       "      <td>3.000000</td>\n",
       "      <td>1691.000000</td>\n",
       "      <td>NaN</td>\n",
       "      <td>2.021070e+07</td>\n",
       "    </tr>\n",
       "    <tr>\n",
       "      <th>max</th>\n",
       "      <td>199998.000000</td>\n",
       "      <td>1.282847e+06</td>\n",
       "      <td>10.000000</td>\n",
       "      <td>1.625242e+09</td>\n",
       "      <td>4.000000</td>\n",
       "      <td>3669.000000</td>\n",
       "      <td>NaN</td>\n",
       "      <td>2.021070e+07</td>\n",
       "    </tr>\n",
       "  </tbody>\n",
       "</table>\n",
       "</div>"
      ]
     },
     "metadata": {},
     "execution_count": 5
    }
   ],
   "metadata": {}
  },
  {
   "cell_type": "code",
   "execution_count": 18,
   "source": [
    "print(\n",
    "    d_test['aor_id'].unique(),\n",
    "    d_test['ord_period_name'].unique(),\n",
    "    d_test['aoi_id'].unique(), d_test['aoi_id'].isna().sum(),\n",
    "    d_test['takedlvr_aoi_type_name'].unique(),\n",
    ")\n",
    "\n",
    "print(d_train['order_price_interval'].unique())"
   ],
   "outputs": [
    {
     "output_type": "stream",
     "name": "stdout",
     "text": [
      "[ 5  6  4  3  7  8  9  0  2  1 10] [4 1 2 3 0] [  nan  412. 1822. ... 2748. 3520. 3199.] 7404 ['未知' '3' '0' '5' '11' '7' '1' '10' '9' '8' '4' '6' '2']\n",
      "['<29' '[29,36)' '[49,65)' '>=65' '[36,49)']\n"
     ]
    }
   ],
   "metadata": {}
  },
  {
   "cell_type": "code",
   "execution_count": 24,
   "source": [
    "# print(d_test.isna().sum(axis=0))\n",
    "print([d_train[c].unique() for c in ['aoi_id', 'takedlvr_aoi_type_name', 'order_scene_name']])"
   ],
   "outputs": [
    {
     "output_type": "stream",
     "name": "stdout",
     "text": [
      "[array([      nan, 0.000e+00, 1.000e+00, ..., 3.621e+03, 3.622e+03,\n",
      "       3.623e+03]), array(['未知', '0', '1', '2', '3', '4', '5', '6', '7', '8', '9', '10', '11'],\n",
      "      dtype=object), array(['0', '1', '2', '3', '4', '5', '未知', '6', '7', '8'], dtype=object)]\n"
     ]
    }
   ],
   "metadata": {}
  },
  {
   "cell_type": "code",
   "execution_count": 20,
   "source": [
    "print(d_train.wm_order_id.nunique(), d_test.wm_order_id.nunique(), \\\n",
    "d_test.drop_duplicates('wm_order_id').wm_order_id.isin(d_train.wm_order_id).sum())"
   ],
   "outputs": [
    {
     "output_type": "execute_result",
     "data": {
      "text/plain": [
       "(1071873, 168546, 0)"
      ]
     },
     "metadata": {},
     "execution_count": 20
    }
   ],
   "metadata": {}
  },
  {
   "cell_type": "code",
   "execution_count": 30,
   "source": [
    "d_train.wm_order_id.max(), d_test.wm_order_id.max(), d_train.wm_order_id.count(), d_test.wm_order_id.count()\n"
   ],
   "outputs": [
    {
     "output_type": "execute_result",
     "data": {
      "text/plain": [
       "(1071872, 1282847, 1071873, 168546)"
      ]
     },
     "metadata": {},
     "execution_count": 30
    }
   ],
   "metadata": {}
  },
  {
   "cell_type": "code",
   "execution_count": 28,
   "source": [
    "d_train.wm_order_id.sort_values(ascending=False).head(),\n",
    "d_test.wm_order_id.sort_values(ascending=False).head(),"
   ],
   "outputs": [
    {
     "output_type": "execute_result",
     "data": {
      "text/plain": [
       "(168545    1282847\n",
       " 168544    1282846\n",
       " 168543    1282845\n",
       " 168542    1282842\n",
       " 168541    1282841\n",
       " Name: wm_order_id, dtype: int64,)"
      ]
     },
     "metadata": {},
     "execution_count": 28
    }
   ],
   "metadata": {}
  },
  {
   "cell_type": "code",
   "execution_count": 31,
   "source": [
    "1071873+168546"
   ],
   "outputs": [
    {
     "output_type": "execute_result",
     "data": {
      "text/plain": [
       "1240419"
      ]
     },
     "metadata": {},
     "execution_count": 31
    }
   ],
   "metadata": {}
  },
  {
   "cell_type": "code",
   "execution_count": 40,
   "source": [
    "d_train.wm_poi_id.nunique(), d_train.wm_poi_id.max()"
   ],
   "outputs": [
    {
     "output_type": "execute_result",
     "data": {
      "text/plain": [
       "(3526, 3576)"
      ]
     },
     "metadata": {},
     "execution_count": 40
    }
   ],
   "metadata": {}
  },
  {
   "cell_type": "code",
   "execution_count": 33,
   "source": [
    "import matplotlib.pyplot as plt\n",
    "import seaborn as sns\n",
    "\n",
    "plt.figure()\n",
    "plt.figure(figsize=(15, 20))\n",
    "i = 1\n",
    "for col in ['aor_id', 'order_price_interval', 'ord_period_name', 'order_scene_name', 'aoi_id', 'takedlvr_aoi_type_name']:\n",
    "    plot_envs = plt.subplot(3, 2, i)\n",
    "    i += 1\n",
    "    v = d_train[col].value_counts().reset_index()[:10]\n",
    "    fig = sns.barplot(x=v['index'], y=v[col])\n",
    "    for item in fig.get_xticklabels():\n",
    "        item.set_rotation(90)\n",
    "    plt.title(col)\n",
    "plt.tight_layout()\n",
    "plt.show()"
   ],
   "outputs": [
    {
     "output_type": "stream",
     "name": "stderr",
     "text": [
      "/Users/easonshi/miniconda3/lib/python3.9/site-packages/matplotlib/backends/backend_agg.py:240: RuntimeWarning: Glyph 26410 missing from current font.\n",
      "  font.set_text(s, 0.0, flags=flags)\n",
      "/Users/easonshi/miniconda3/lib/python3.9/site-packages/matplotlib/backends/backend_agg.py:240: RuntimeWarning: Glyph 30693 missing from current font.\n",
      "  font.set_text(s, 0.0, flags=flags)\n"
     ]
    },
    {
     "output_type": "display_data",
     "data": {
      "text/plain": [
       "<Figure size 432x288 with 0 Axes>"
      ]
     },
     "metadata": {}
    },
    {
     "output_type": "stream",
     "name": "stderr",
     "text": [
      "/Users/easonshi/miniconda3/lib/python3.9/site-packages/matplotlib/textpath.py:65: RuntimeWarning: Glyph 26410 missing from current font.\n",
      "  font.set_text(s, 0.0, flags=LOAD_NO_HINTING)\n",
      "/Users/easonshi/miniconda3/lib/python3.9/site-packages/matplotlib/textpath.py:65: RuntimeWarning: Glyph 30693 missing from current font.\n",
      "  font.set_text(s, 0.0, flags=LOAD_NO_HINTING)\n",
      "/Users/easonshi/miniconda3/lib/python3.9/site-packages/matplotlib/backends/backend_agg.py:203: RuntimeWarning: Glyph 26410 missing from current font.\n",
      "  font.set_text(s, 0, flags=flags)\n",
      "/Users/easonshi/miniconda3/lib/python3.9/site-packages/matplotlib/backends/backend_agg.py:203: RuntimeWarning: Glyph 30693 missing from current font.\n",
      "  font.set_text(s, 0, flags=flags)\n"
     ]
    },
    {
     "output_type": "display_data",
     "data": {
      "text/plain": [
       "<Figure size 1080x1440 with 6 Axes>"
      ],
      "image/svg+xml": "<?xml version=\"1.0\" encoding=\"utf-8\" standalone=\"no\"?>\n<!DOCTYPE svg PUBLIC \"-//W3C//DTD SVG 1.1//EN\"\n  \"http://www.w3.org/Graphics/SVG/1.1/DTD/svg11.dtd\">\n<svg height=\"1431.724375pt\" version=\"1.1\" viewBox=\"0 0 1072.275 1431.724375\" width=\"1072.275pt\" xmlns=\"http://www.w3.org/2000/svg\" xmlns:xlink=\"http://www.w3.org/1999/xlink\">\n <metadata>\n  <rdf:RDF xmlns:cc=\"http://creativecommons.org/ns#\" xmlns:dc=\"http://purl.org/dc/elements/1.1/\" xmlns:rdf=\"http://www.w3.org/1999/02/22-rdf-syntax-ns#\">\n   <cc:Work>\n    <dc:type rdf:resource=\"http://purl.org/dc/dcmitype/StillImage\"/>\n    <dc:date>2021-08-19T12:22:22.580646</dc:date>\n    <dc:format>image/svg+xml</dc:format>\n    <dc:creator>\n     <cc:Agent>\n      <dc:title>Matplotlib v3.4.2, https://matplotlib.org/</dc:title>\n     </cc:Agent>\n    </dc:creator>\n   </cc:Work>\n  </rdf:RDF>\n </metadata>\n <defs>\n  <style type=\"text/css\">*{stroke-linecap:butt;stroke-linejoin:round;}</style>\n </defs>\n <g id=\"figure_1\">\n  <g id=\"patch_1\">\n   <path d=\"M 0 1431.724375 \nL 1072.275 1431.724375 \nL 1072.275 0 \nL 0 0 \nz\n\" style=\"fill:none;\"/>\n  </g>\n  <g id=\"axes_1\">\n   <g id=\"patch_2\">\n    <path d=\"M 66.33125 417.168125 \nL 530.5375 417.168125 \nL 530.5375 22.318125 \nL 66.33125 22.318125 \nz\n\" style=\"fill:#ffffff;\"/>\n   </g>\n   <g id=\"patch_3\">\n    <path clip-path=\"url(#p390ab2a02e)\" d=\"M 70.973313 417.168125 \nL 108.109813 417.168125 \nL 108.109813 41.120506 \nL 70.973313 41.120506 \nz\n\" style=\"fill:#3274a1;\"/>\n   </g>\n   <g id=\"patch_4\">\n    <path clip-path=\"url(#p390ab2a02e)\" d=\"M 117.393938 417.168125 \nL 154.530438 417.168125 \nL 154.530438 310.586257 \nL 117.393938 310.586257 \nz\n\" style=\"fill:#e1812c;\"/>\n   </g>\n   <g id=\"patch_5\">\n    <path clip-path=\"url(#p390ab2a02e)\" d=\"M 163.814563 417.168125 \nL 200.951063 417.168125 \nL 200.951063 326.942593 \nL 163.814563 326.942593 \nz\n\" style=\"fill:#3a923a;\"/>\n   </g>\n   <g id=\"patch_6\">\n    <path clip-path=\"url(#p390ab2a02e)\" d=\"M 210.235188 417.168125 \nL 247.371688 417.168125 \nL 247.371688 261.372191 \nL 210.235188 261.372191 \nz\n\" style=\"fill:#c03d3e;\"/>\n   </g>\n   <g id=\"patch_7\">\n    <path clip-path=\"url(#p390ab2a02e)\" d=\"M 256.655813 417.168125 \nL 293.792313 417.168125 \nL 293.792313 341.361271 \nL 256.655813 341.361271 \nz\n\" style=\"fill:#9372b2;\"/>\n   </g>\n   <g id=\"patch_8\">\n    <path clip-path=\"url(#p390ab2a02e)\" d=\"M 303.076437 417.168125 \nL 340.212938 417.168125 \nL 340.212938 315.846486 \nL 303.076437 315.846486 \nz\n\" style=\"fill:#845b53;\"/>\n   </g>\n   <g id=\"patch_9\">\n    <path clip-path=\"url(#p390ab2a02e)\" d=\"M 349.497062 417.168125 \nL 386.633562 417.168125 \nL 386.633562 154.825442 \nL 349.497062 154.825442 \nz\n\" style=\"fill:#d684bd;\"/>\n   </g>\n   <g id=\"patch_10\">\n    <path clip-path=\"url(#p390ab2a02e)\" d=\"M 395.917687 417.168125 \nL 433.054188 417.168125 \nL 433.054188 284.401155 \nL 395.917687 284.401155 \nz\n\" style=\"fill:#7f7f7f;\"/>\n   </g>\n   <g id=\"patch_11\">\n    <path clip-path=\"url(#p390ab2a02e)\" d=\"M 442.338312 417.168125 \nL 479.474812 417.168125 \nL 479.474812 287.264125 \nL 442.338312 287.264125 \nz\n\" style=\"fill:#a9aa35;\"/>\n   </g>\n   <g id=\"patch_12\">\n    <path clip-path=\"url(#p390ab2a02e)\" d=\"M 488.758938 417.168125 \nL 525.895438 417.168125 \nL 525.895438 265.511664 \nL 488.758938 265.511664 \nz\n\" style=\"fill:#2eabb8;\"/>\n   </g>\n   <g id=\"matplotlib.axis_1\">\n    <g id=\"xtick_1\">\n     <g id=\"line2d_1\">\n      <defs>\n       <path d=\"M 0 0 \nL 0 3.5 \n\" id=\"m25841fbf0c\" style=\"stroke:#000000;stroke-width:0.8;\"/>\n      </defs>\n      <g>\n       <use style=\"stroke:#000000;stroke-width:0.8;\" x=\"89.541563\" xlink:href=\"#m25841fbf0c\" y=\"417.168125\"/>\n      </g>\n     </g>\n     <g id=\"text_1\">\n      <!-- 0 -->\n      <g transform=\"translate(92.300938 430.530625)rotate(-90)scale(0.1 -0.1)\">\n       <defs>\n        <path d=\"M 2034 4250 \nQ 1547 4250 1301 3770 \nQ 1056 3291 1056 2328 \nQ 1056 1369 1301 889 \nQ 1547 409 2034 409 \nQ 2525 409 2770 889 \nQ 3016 1369 3016 2328 \nQ 3016 3291 2770 3770 \nQ 2525 4250 2034 4250 \nz\nM 2034 4750 \nQ 2819 4750 3233 4129 \nQ 3647 3509 3647 2328 \nQ 3647 1150 3233 529 \nQ 2819 -91 2034 -91 \nQ 1250 -91 836 529 \nQ 422 1150 422 2328 \nQ 422 3509 836 4129 \nQ 1250 4750 2034 4750 \nz\n\" id=\"DejaVuSans-30\" transform=\"scale(0.015625)\"/>\n       </defs>\n       <use xlink:href=\"#DejaVuSans-30\"/>\n      </g>\n     </g>\n    </g>\n    <g id=\"xtick_2\">\n     <g id=\"line2d_2\">\n      <g>\n       <use style=\"stroke:#000000;stroke-width:0.8;\" x=\"135.962188\" xlink:href=\"#m25841fbf0c\" y=\"417.168125\"/>\n      </g>\n     </g>\n     <g id=\"text_2\">\n      <!-- 1 -->\n      <g transform=\"translate(138.721563 430.530625)rotate(-90)scale(0.1 -0.1)\">\n       <defs>\n        <path d=\"M 794 531 \nL 1825 531 \nL 1825 4091 \nL 703 3866 \nL 703 4441 \nL 1819 4666 \nL 2450 4666 \nL 2450 531 \nL 3481 531 \nL 3481 0 \nL 794 0 \nL 794 531 \nz\n\" id=\"DejaVuSans-31\" transform=\"scale(0.015625)\"/>\n       </defs>\n       <use xlink:href=\"#DejaVuSans-31\"/>\n      </g>\n     </g>\n    </g>\n    <g id=\"xtick_3\">\n     <g id=\"line2d_3\">\n      <g>\n       <use style=\"stroke:#000000;stroke-width:0.8;\" x=\"182.382812\" xlink:href=\"#m25841fbf0c\" y=\"417.168125\"/>\n      </g>\n     </g>\n     <g id=\"text_3\">\n      <!-- 2 -->\n      <g transform=\"translate(185.142188 430.530625)rotate(-90)scale(0.1 -0.1)\">\n       <defs>\n        <path d=\"M 1228 531 \nL 3431 531 \nL 3431 0 \nL 469 0 \nL 469 531 \nQ 828 903 1448 1529 \nQ 2069 2156 2228 2338 \nQ 2531 2678 2651 2914 \nQ 2772 3150 2772 3378 \nQ 2772 3750 2511 3984 \nQ 2250 4219 1831 4219 \nQ 1534 4219 1204 4116 \nQ 875 4013 500 3803 \nL 500 4441 \nQ 881 4594 1212 4672 \nQ 1544 4750 1819 4750 \nQ 2544 4750 2975 4387 \nQ 3406 4025 3406 3419 \nQ 3406 3131 3298 2873 \nQ 3191 2616 2906 2266 \nQ 2828 2175 2409 1742 \nQ 1991 1309 1228 531 \nz\n\" id=\"DejaVuSans-32\" transform=\"scale(0.015625)\"/>\n       </defs>\n       <use xlink:href=\"#DejaVuSans-32\"/>\n      </g>\n     </g>\n    </g>\n    <g id=\"xtick_4\">\n     <g id=\"line2d_4\">\n      <g>\n       <use style=\"stroke:#000000;stroke-width:0.8;\" x=\"228.803438\" xlink:href=\"#m25841fbf0c\" y=\"417.168125\"/>\n      </g>\n     </g>\n     <g id=\"text_4\">\n      <!-- 3 -->\n      <g transform=\"translate(231.562813 430.530625)rotate(-90)scale(0.1 -0.1)\">\n       <defs>\n        <path d=\"M 2597 2516 \nQ 3050 2419 3304 2112 \nQ 3559 1806 3559 1356 \nQ 3559 666 3084 287 \nQ 2609 -91 1734 -91 \nQ 1441 -91 1130 -33 \nQ 819 25 488 141 \nL 488 750 \nQ 750 597 1062 519 \nQ 1375 441 1716 441 \nQ 2309 441 2620 675 \nQ 2931 909 2931 1356 \nQ 2931 1769 2642 2001 \nQ 2353 2234 1838 2234 \nL 1294 2234 \nL 1294 2753 \nL 1863 2753 \nQ 2328 2753 2575 2939 \nQ 2822 3125 2822 3475 \nQ 2822 3834 2567 4026 \nQ 2313 4219 1838 4219 \nQ 1578 4219 1281 4162 \nQ 984 4106 628 3988 \nL 628 4550 \nQ 988 4650 1302 4700 \nQ 1616 4750 1894 4750 \nQ 2613 4750 3031 4423 \nQ 3450 4097 3450 3541 \nQ 3450 3153 3228 2886 \nQ 3006 2619 2597 2516 \nz\n\" id=\"DejaVuSans-33\" transform=\"scale(0.015625)\"/>\n       </defs>\n       <use xlink:href=\"#DejaVuSans-33\"/>\n      </g>\n     </g>\n    </g>\n    <g id=\"xtick_5\">\n     <g id=\"line2d_5\">\n      <g>\n       <use style=\"stroke:#000000;stroke-width:0.8;\" x=\"275.224063\" xlink:href=\"#m25841fbf0c\" y=\"417.168125\"/>\n      </g>\n     </g>\n     <g id=\"text_5\">\n      <!-- 4 -->\n      <g transform=\"translate(277.983437 430.530625)rotate(-90)scale(0.1 -0.1)\">\n       <defs>\n        <path d=\"M 2419 4116 \nL 825 1625 \nL 2419 1625 \nL 2419 4116 \nz\nM 2253 4666 \nL 3047 4666 \nL 3047 1625 \nL 3713 1625 \nL 3713 1100 \nL 3047 1100 \nL 3047 0 \nL 2419 0 \nL 2419 1100 \nL 313 1100 \nL 313 1709 \nL 2253 4666 \nz\n\" id=\"DejaVuSans-34\" transform=\"scale(0.015625)\"/>\n       </defs>\n       <use xlink:href=\"#DejaVuSans-34\"/>\n      </g>\n     </g>\n    </g>\n    <g id=\"xtick_6\">\n     <g id=\"line2d_6\">\n      <g>\n       <use style=\"stroke:#000000;stroke-width:0.8;\" x=\"321.644688\" xlink:href=\"#m25841fbf0c\" y=\"417.168125\"/>\n      </g>\n     </g>\n     <g id=\"text_6\">\n      <!-- 5 -->\n      <g transform=\"translate(324.404063 430.530625)rotate(-90)scale(0.1 -0.1)\">\n       <defs>\n        <path d=\"M 691 4666 \nL 3169 4666 \nL 3169 4134 \nL 1269 4134 \nL 1269 2991 \nQ 1406 3038 1543 3061 \nQ 1681 3084 1819 3084 \nQ 2600 3084 3056 2656 \nQ 3513 2228 3513 1497 \nQ 3513 744 3044 326 \nQ 2575 -91 1722 -91 \nQ 1428 -91 1123 -41 \nQ 819 9 494 109 \nL 494 744 \nQ 775 591 1075 516 \nQ 1375 441 1709 441 \nQ 2250 441 2565 725 \nQ 2881 1009 2881 1497 \nQ 2881 1984 2565 2268 \nQ 2250 2553 1709 2553 \nQ 1456 2553 1204 2497 \nQ 953 2441 691 2322 \nL 691 4666 \nz\n\" id=\"DejaVuSans-35\" transform=\"scale(0.015625)\"/>\n       </defs>\n       <use xlink:href=\"#DejaVuSans-35\"/>\n      </g>\n     </g>\n    </g>\n    <g id=\"xtick_7\">\n     <g id=\"line2d_7\">\n      <g>\n       <use style=\"stroke:#000000;stroke-width:0.8;\" x=\"368.065313\" xlink:href=\"#m25841fbf0c\" y=\"417.168125\"/>\n      </g>\n     </g>\n     <g id=\"text_7\">\n      <!-- 6 -->\n      <g transform=\"translate(370.824687 430.530625)rotate(-90)scale(0.1 -0.1)\">\n       <defs>\n        <path d=\"M 2113 2584 \nQ 1688 2584 1439 2293 \nQ 1191 2003 1191 1497 \nQ 1191 994 1439 701 \nQ 1688 409 2113 409 \nQ 2538 409 2786 701 \nQ 3034 994 3034 1497 \nQ 3034 2003 2786 2293 \nQ 2538 2584 2113 2584 \nz\nM 3366 4563 \nL 3366 3988 \nQ 3128 4100 2886 4159 \nQ 2644 4219 2406 4219 \nQ 1781 4219 1451 3797 \nQ 1122 3375 1075 2522 \nQ 1259 2794 1537 2939 \nQ 1816 3084 2150 3084 \nQ 2853 3084 3261 2657 \nQ 3669 2231 3669 1497 \nQ 3669 778 3244 343 \nQ 2819 -91 2113 -91 \nQ 1303 -91 875 529 \nQ 447 1150 447 2328 \nQ 447 3434 972 4092 \nQ 1497 4750 2381 4750 \nQ 2619 4750 2861 4703 \nQ 3103 4656 3366 4563 \nz\n\" id=\"DejaVuSans-36\" transform=\"scale(0.015625)\"/>\n       </defs>\n       <use xlink:href=\"#DejaVuSans-36\"/>\n      </g>\n     </g>\n    </g>\n    <g id=\"xtick_8\">\n     <g id=\"line2d_8\">\n      <g>\n       <use style=\"stroke:#000000;stroke-width:0.8;\" x=\"414.485938\" xlink:href=\"#m25841fbf0c\" y=\"417.168125\"/>\n      </g>\n     </g>\n     <g id=\"text_8\">\n      <!-- 8 -->\n      <g transform=\"translate(417.245313 430.530625)rotate(-90)scale(0.1 -0.1)\">\n       <defs>\n        <path d=\"M 2034 2216 \nQ 1584 2216 1326 1975 \nQ 1069 1734 1069 1313 \nQ 1069 891 1326 650 \nQ 1584 409 2034 409 \nQ 2484 409 2743 651 \nQ 3003 894 3003 1313 \nQ 3003 1734 2745 1975 \nQ 2488 2216 2034 2216 \nz\nM 1403 2484 \nQ 997 2584 770 2862 \nQ 544 3141 544 3541 \nQ 544 4100 942 4425 \nQ 1341 4750 2034 4750 \nQ 2731 4750 3128 4425 \nQ 3525 4100 3525 3541 \nQ 3525 3141 3298 2862 \nQ 3072 2584 2669 2484 \nQ 3125 2378 3379 2068 \nQ 3634 1759 3634 1313 \nQ 3634 634 3220 271 \nQ 2806 -91 2034 -91 \nQ 1263 -91 848 271 \nQ 434 634 434 1313 \nQ 434 1759 690 2068 \nQ 947 2378 1403 2484 \nz\nM 1172 3481 \nQ 1172 3119 1398 2916 \nQ 1625 2713 2034 2713 \nQ 2441 2713 2670 2916 \nQ 2900 3119 2900 3481 \nQ 2900 3844 2670 4047 \nQ 2441 4250 2034 4250 \nQ 1625 4250 1398 4047 \nQ 1172 3844 1172 3481 \nz\n\" id=\"DejaVuSans-38\" transform=\"scale(0.015625)\"/>\n       </defs>\n       <use xlink:href=\"#DejaVuSans-38\"/>\n      </g>\n     </g>\n    </g>\n    <g id=\"xtick_9\">\n     <g id=\"line2d_9\">\n      <g>\n       <use style=\"stroke:#000000;stroke-width:0.8;\" x=\"460.906563\" xlink:href=\"#m25841fbf0c\" y=\"417.168125\"/>\n      </g>\n     </g>\n     <g id=\"text_9\">\n      <!-- 9 -->\n      <g transform=\"translate(463.665937 430.530625)rotate(-90)scale(0.1 -0.1)\">\n       <defs>\n        <path d=\"M 703 97 \nL 703 672 \nQ 941 559 1184 500 \nQ 1428 441 1663 441 \nQ 2288 441 2617 861 \nQ 2947 1281 2994 2138 \nQ 2813 1869 2534 1725 \nQ 2256 1581 1919 1581 \nQ 1219 1581 811 2004 \nQ 403 2428 403 3163 \nQ 403 3881 828 4315 \nQ 1253 4750 1959 4750 \nQ 2769 4750 3195 4129 \nQ 3622 3509 3622 2328 \nQ 3622 1225 3098 567 \nQ 2575 -91 1691 -91 \nQ 1453 -91 1209 -44 \nQ 966 3 703 97 \nz\nM 1959 2075 \nQ 2384 2075 2632 2365 \nQ 2881 2656 2881 3163 \nQ 2881 3666 2632 3958 \nQ 2384 4250 1959 4250 \nQ 1534 4250 1286 3958 \nQ 1038 3666 1038 3163 \nQ 1038 2656 1286 2365 \nQ 1534 2075 1959 2075 \nz\n\" id=\"DejaVuSans-39\" transform=\"scale(0.015625)\"/>\n       </defs>\n       <use xlink:href=\"#DejaVuSans-39\"/>\n      </g>\n     </g>\n    </g>\n    <g id=\"xtick_10\">\n     <g id=\"line2d_10\">\n      <g>\n       <use style=\"stroke:#000000;stroke-width:0.8;\" x=\"507.327187\" xlink:href=\"#m25841fbf0c\" y=\"417.168125\"/>\n      </g>\n     </g>\n     <g id=\"text_10\">\n      <!-- 10 -->\n      <g transform=\"translate(510.086562 436.893125)rotate(-90)scale(0.1 -0.1)\">\n       <use xlink:href=\"#DejaVuSans-31\"/>\n       <use x=\"63.623047\" xlink:href=\"#DejaVuSans-30\"/>\n      </g>\n     </g>\n    </g>\n    <g id=\"text_11\">\n     <!-- index -->\n     <g transform=\"translate(284.753906 448.491563)scale(0.1 -0.1)\">\n      <defs>\n       <path d=\"M 603 3500 \nL 1178 3500 \nL 1178 0 \nL 603 0 \nL 603 3500 \nz\nM 603 4863 \nL 1178 4863 \nL 1178 4134 \nL 603 4134 \nL 603 4863 \nz\n\" id=\"DejaVuSans-69\" transform=\"scale(0.015625)\"/>\n       <path d=\"M 3513 2113 \nL 3513 0 \nL 2938 0 \nL 2938 2094 \nQ 2938 2591 2744 2837 \nQ 2550 3084 2163 3084 \nQ 1697 3084 1428 2787 \nQ 1159 2491 1159 1978 \nL 1159 0 \nL 581 0 \nL 581 3500 \nL 1159 3500 \nL 1159 2956 \nQ 1366 3272 1645 3428 \nQ 1925 3584 2291 3584 \nQ 2894 3584 3203 3211 \nQ 3513 2838 3513 2113 \nz\n\" id=\"DejaVuSans-6e\" transform=\"scale(0.015625)\"/>\n       <path d=\"M 2906 2969 \nL 2906 4863 \nL 3481 4863 \nL 3481 0 \nL 2906 0 \nL 2906 525 \nQ 2725 213 2448 61 \nQ 2172 -91 1784 -91 \nQ 1150 -91 751 415 \nQ 353 922 353 1747 \nQ 353 2572 751 3078 \nQ 1150 3584 1784 3584 \nQ 2172 3584 2448 3432 \nQ 2725 3281 2906 2969 \nz\nM 947 1747 \nQ 947 1113 1208 752 \nQ 1469 391 1925 391 \nQ 2381 391 2643 752 \nQ 2906 1113 2906 1747 \nQ 2906 2381 2643 2742 \nQ 2381 3103 1925 3103 \nQ 1469 3103 1208 2742 \nQ 947 2381 947 1747 \nz\n\" id=\"DejaVuSans-64\" transform=\"scale(0.015625)\"/>\n       <path d=\"M 3597 1894 \nL 3597 1613 \nL 953 1613 \nQ 991 1019 1311 708 \nQ 1631 397 2203 397 \nQ 2534 397 2845 478 \nQ 3156 559 3463 722 \nL 3463 178 \nQ 3153 47 2828 -22 \nQ 2503 -91 2169 -91 \nQ 1331 -91 842 396 \nQ 353 884 353 1716 \nQ 353 2575 817 3079 \nQ 1281 3584 2069 3584 \nQ 2775 3584 3186 3129 \nQ 3597 2675 3597 1894 \nz\nM 3022 2063 \nQ 3016 2534 2758 2815 \nQ 2500 3097 2075 3097 \nQ 1594 3097 1305 2825 \nQ 1016 2553 972 2059 \nL 3022 2063 \nz\n\" id=\"DejaVuSans-65\" transform=\"scale(0.015625)\"/>\n       <path d=\"M 3513 3500 \nL 2247 1797 \nL 3578 0 \nL 2900 0 \nL 1881 1375 \nL 863 0 \nL 184 0 \nL 1544 1831 \nL 300 3500 \nL 978 3500 \nL 1906 2253 \nL 2834 3500 \nL 3513 3500 \nz\n\" id=\"DejaVuSans-78\" transform=\"scale(0.015625)\"/>\n      </defs>\n      <use xlink:href=\"#DejaVuSans-69\"/>\n      <use x=\"27.783203\" xlink:href=\"#DejaVuSans-6e\"/>\n      <use x=\"91.162109\" xlink:href=\"#DejaVuSans-64\"/>\n      <use x=\"154.638672\" xlink:href=\"#DejaVuSans-65\"/>\n      <use x=\"214.412109\" xlink:href=\"#DejaVuSans-78\"/>\n     </g>\n    </g>\n   </g>\n   <g id=\"matplotlib.axis_2\">\n    <g id=\"ytick_1\">\n     <g id=\"line2d_11\">\n      <defs>\n       <path d=\"M 0 0 \nL -3.5 0 \n\" id=\"m5558a4844f\" style=\"stroke:#000000;stroke-width:0.8;\"/>\n      </defs>\n      <g>\n       <use style=\"stroke:#000000;stroke-width:0.8;\" x=\"66.33125\" xlink:href=\"#m5558a4844f\" y=\"417.168125\"/>\n      </g>\n     </g>\n     <g id=\"text_12\">\n      <!-- 0 -->\n      <g transform=\"translate(52.96875 420.967344)scale(0.1 -0.1)\">\n       <use xlink:href=\"#DejaVuSans-30\"/>\n      </g>\n     </g>\n    </g>\n    <g id=\"ytick_2\">\n     <g id=\"line2d_12\">\n      <g>\n       <use style=\"stroke:#000000;stroke-width:0.8;\" x=\"66.33125\" xlink:href=\"#m5558a4844f\" y=\"340.822269\"/>\n      </g>\n     </g>\n     <g id=\"text_13\">\n      <!-- 50000 -->\n      <g transform=\"translate(27.51875 344.621488)scale(0.1 -0.1)\">\n       <use xlink:href=\"#DejaVuSans-35\"/>\n       <use x=\"63.623047\" xlink:href=\"#DejaVuSans-30\"/>\n       <use x=\"127.246094\" xlink:href=\"#DejaVuSans-30\"/>\n       <use x=\"190.869141\" xlink:href=\"#DejaVuSans-30\"/>\n       <use x=\"254.492188\" xlink:href=\"#DejaVuSans-30\"/>\n      </g>\n     </g>\n    </g>\n    <g id=\"ytick_3\">\n     <g id=\"line2d_13\">\n      <g>\n       <use style=\"stroke:#000000;stroke-width:0.8;\" x=\"66.33125\" xlink:href=\"#m5558a4844f\" y=\"264.476414\"/>\n      </g>\n     </g>\n     <g id=\"text_14\">\n      <!-- 100000 -->\n      <g transform=\"translate(21.15625 268.275633)scale(0.1 -0.1)\">\n       <use xlink:href=\"#DejaVuSans-31\"/>\n       <use x=\"63.623047\" xlink:href=\"#DejaVuSans-30\"/>\n       <use x=\"127.246094\" xlink:href=\"#DejaVuSans-30\"/>\n       <use x=\"190.869141\" xlink:href=\"#DejaVuSans-30\"/>\n       <use x=\"254.492188\" xlink:href=\"#DejaVuSans-30\"/>\n       <use x=\"318.115234\" xlink:href=\"#DejaVuSans-30\"/>\n      </g>\n     </g>\n    </g>\n    <g id=\"ytick_4\">\n     <g id=\"line2d_14\">\n      <g>\n       <use style=\"stroke:#000000;stroke-width:0.8;\" x=\"66.33125\" xlink:href=\"#m5558a4844f\" y=\"188.130558\"/>\n      </g>\n     </g>\n     <g id=\"text_15\">\n      <!-- 150000 -->\n      <g transform=\"translate(21.15625 191.929777)scale(0.1 -0.1)\">\n       <use xlink:href=\"#DejaVuSans-31\"/>\n       <use x=\"63.623047\" xlink:href=\"#DejaVuSans-35\"/>\n       <use x=\"127.246094\" xlink:href=\"#DejaVuSans-30\"/>\n       <use x=\"190.869141\" xlink:href=\"#DejaVuSans-30\"/>\n       <use x=\"254.492188\" xlink:href=\"#DejaVuSans-30\"/>\n       <use x=\"318.115234\" xlink:href=\"#DejaVuSans-30\"/>\n      </g>\n     </g>\n    </g>\n    <g id=\"ytick_5\">\n     <g id=\"line2d_15\">\n      <g>\n       <use style=\"stroke:#000000;stroke-width:0.8;\" x=\"66.33125\" xlink:href=\"#m5558a4844f\" y=\"111.784703\"/>\n      </g>\n     </g>\n     <g id=\"text_16\">\n      <!-- 200000 -->\n      <g transform=\"translate(21.15625 115.583922)scale(0.1 -0.1)\">\n       <use xlink:href=\"#DejaVuSans-32\"/>\n       <use x=\"63.623047\" xlink:href=\"#DejaVuSans-30\"/>\n       <use x=\"127.246094\" xlink:href=\"#DejaVuSans-30\"/>\n       <use x=\"190.869141\" xlink:href=\"#DejaVuSans-30\"/>\n       <use x=\"254.492188\" xlink:href=\"#DejaVuSans-30\"/>\n       <use x=\"318.115234\" xlink:href=\"#DejaVuSans-30\"/>\n      </g>\n     </g>\n    </g>\n    <g id=\"ytick_6\">\n     <g id=\"line2d_16\">\n      <g>\n       <use style=\"stroke:#000000;stroke-width:0.8;\" x=\"66.33125\" xlink:href=\"#m5558a4844f\" y=\"35.438847\"/>\n      </g>\n     </g>\n     <g id=\"text_17\">\n      <!-- 250000 -->\n      <g transform=\"translate(21.15625 39.238066)scale(0.1 -0.1)\">\n       <use xlink:href=\"#DejaVuSans-32\"/>\n       <use x=\"63.623047\" xlink:href=\"#DejaVuSans-35\"/>\n       <use x=\"127.246094\" xlink:href=\"#DejaVuSans-30\"/>\n       <use x=\"190.869141\" xlink:href=\"#DejaVuSans-30\"/>\n       <use x=\"254.492188\" xlink:href=\"#DejaVuSans-30\"/>\n       <use x=\"318.115234\" xlink:href=\"#DejaVuSans-30\"/>\n      </g>\n     </g>\n    </g>\n    <g id=\"text_18\">\n     <!-- aor_id -->\n     <g transform=\"translate(14.798438 234.985312)rotate(-90)scale(0.1 -0.1)\">\n      <defs>\n       <path d=\"M 2194 1759 \nQ 1497 1759 1228 1600 \nQ 959 1441 959 1056 \nQ 959 750 1161 570 \nQ 1363 391 1709 391 \nQ 2188 391 2477 730 \nQ 2766 1069 2766 1631 \nL 2766 1759 \nL 2194 1759 \nz\nM 3341 1997 \nL 3341 0 \nL 2766 0 \nL 2766 531 \nQ 2569 213 2275 61 \nQ 1981 -91 1556 -91 \nQ 1019 -91 701 211 \nQ 384 513 384 1019 \nQ 384 1609 779 1909 \nQ 1175 2209 1959 2209 \nL 2766 2209 \nL 2766 2266 \nQ 2766 2663 2505 2880 \nQ 2244 3097 1772 3097 \nQ 1472 3097 1187 3025 \nQ 903 2953 641 2809 \nL 641 3341 \nQ 956 3463 1253 3523 \nQ 1550 3584 1831 3584 \nQ 2591 3584 2966 3190 \nQ 3341 2797 3341 1997 \nz\n\" id=\"DejaVuSans-61\" transform=\"scale(0.015625)\"/>\n       <path d=\"M 1959 3097 \nQ 1497 3097 1228 2736 \nQ 959 2375 959 1747 \nQ 959 1119 1226 758 \nQ 1494 397 1959 397 \nQ 2419 397 2687 759 \nQ 2956 1122 2956 1747 \nQ 2956 2369 2687 2733 \nQ 2419 3097 1959 3097 \nz\nM 1959 3584 \nQ 2709 3584 3137 3096 \nQ 3566 2609 3566 1747 \nQ 3566 888 3137 398 \nQ 2709 -91 1959 -91 \nQ 1206 -91 779 398 \nQ 353 888 353 1747 \nQ 353 2609 779 3096 \nQ 1206 3584 1959 3584 \nz\n\" id=\"DejaVuSans-6f\" transform=\"scale(0.015625)\"/>\n       <path d=\"M 2631 2963 \nQ 2534 3019 2420 3045 \nQ 2306 3072 2169 3072 \nQ 1681 3072 1420 2755 \nQ 1159 2438 1159 1844 \nL 1159 0 \nL 581 0 \nL 581 3500 \nL 1159 3500 \nL 1159 2956 \nQ 1341 3275 1631 3429 \nQ 1922 3584 2338 3584 \nQ 2397 3584 2469 3576 \nQ 2541 3569 2628 3553 \nL 2631 2963 \nz\n\" id=\"DejaVuSans-72\" transform=\"scale(0.015625)\"/>\n       <path d=\"M 3263 -1063 \nL 3263 -1509 \nL -63 -1509 \nL -63 -1063 \nL 3263 -1063 \nz\n\" id=\"DejaVuSans-5f\" transform=\"scale(0.015625)\"/>\n      </defs>\n      <use xlink:href=\"#DejaVuSans-61\"/>\n      <use x=\"61.279297\" xlink:href=\"#DejaVuSans-6f\"/>\n      <use x=\"122.460938\" xlink:href=\"#DejaVuSans-72\"/>\n      <use x=\"163.574219\" xlink:href=\"#DejaVuSans-5f\"/>\n      <use x=\"213.574219\" xlink:href=\"#DejaVuSans-69\"/>\n      <use x=\"241.357422\" xlink:href=\"#DejaVuSans-64\"/>\n     </g>\n    </g>\n   </g>\n   <g id=\"line2d_17\">\n    <path clip-path=\"url(#p390ab2a02e)\" style=\"fill:none;stroke:#424242;stroke-linecap:square;stroke-width:2.7;\"/>\n   </g>\n   <g id=\"line2d_18\">\n    <path clip-path=\"url(#p390ab2a02e)\" style=\"fill:none;stroke:#424242;stroke-linecap:square;stroke-width:2.7;\"/>\n   </g>\n   <g id=\"line2d_19\">\n    <path clip-path=\"url(#p390ab2a02e)\" style=\"fill:none;stroke:#424242;stroke-linecap:square;stroke-width:2.7;\"/>\n   </g>\n   <g id=\"line2d_20\">\n    <path clip-path=\"url(#p390ab2a02e)\" style=\"fill:none;stroke:#424242;stroke-linecap:square;stroke-width:2.7;\"/>\n   </g>\n   <g id=\"line2d_21\">\n    <path clip-path=\"url(#p390ab2a02e)\" style=\"fill:none;stroke:#424242;stroke-linecap:square;stroke-width:2.7;\"/>\n   </g>\n   <g id=\"line2d_22\">\n    <path clip-path=\"url(#p390ab2a02e)\" style=\"fill:none;stroke:#424242;stroke-linecap:square;stroke-width:2.7;\"/>\n   </g>\n   <g id=\"line2d_23\">\n    <path clip-path=\"url(#p390ab2a02e)\" style=\"fill:none;stroke:#424242;stroke-linecap:square;stroke-width:2.7;\"/>\n   </g>\n   <g id=\"line2d_24\">\n    <path clip-path=\"url(#p390ab2a02e)\" style=\"fill:none;stroke:#424242;stroke-linecap:square;stroke-width:2.7;\"/>\n   </g>\n   <g id=\"line2d_25\">\n    <path clip-path=\"url(#p390ab2a02e)\" style=\"fill:none;stroke:#424242;stroke-linecap:square;stroke-width:2.7;\"/>\n   </g>\n   <g id=\"line2d_26\">\n    <path clip-path=\"url(#p390ab2a02e)\" style=\"fill:none;stroke:#424242;stroke-linecap:square;stroke-width:2.7;\"/>\n   </g>\n   <g id=\"patch_13\">\n    <path d=\"M 66.33125 417.168125 \nL 66.33125 22.318125 \n\" style=\"fill:none;stroke:#000000;stroke-linecap:square;stroke-linejoin:miter;stroke-width:0.8;\"/>\n   </g>\n   <g id=\"patch_14\">\n    <path d=\"M 530.5375 417.168125 \nL 530.5375 22.318125 \n\" style=\"fill:none;stroke:#000000;stroke-linecap:square;stroke-linejoin:miter;stroke-width:0.8;\"/>\n   </g>\n   <g id=\"patch_15\">\n    <path d=\"M 66.33125 417.168125 \nL 530.5375 417.168125 \n\" style=\"fill:none;stroke:#000000;stroke-linecap:square;stroke-linejoin:miter;stroke-width:0.8;\"/>\n   </g>\n   <g id=\"patch_16\">\n    <path d=\"M 66.33125 22.318125 \nL 530.5375 22.318125 \n\" style=\"fill:none;stroke:#000000;stroke-linecap:square;stroke-linejoin:miter;stroke-width:0.8;\"/>\n   </g>\n   <g id=\"text_19\">\n    <!-- aor_id -->\n    <g transform=\"translate(280.14375 16.318125)scale(0.12 -0.12)\">\n     <use xlink:href=\"#DejaVuSans-61\"/>\n     <use x=\"61.279297\" xlink:href=\"#DejaVuSans-6f\"/>\n     <use x=\"122.460938\" xlink:href=\"#DejaVuSans-72\"/>\n     <use x=\"163.574219\" xlink:href=\"#DejaVuSans-5f\"/>\n     <use x=\"213.574219\" xlink:href=\"#DejaVuSans-69\"/>\n     <use x=\"241.357422\" xlink:href=\"#DejaVuSans-64\"/>\n    </g>\n   </g>\n  </g>\n  <g id=\"axes_2\">\n   <g id=\"patch_17\">\n    <path d=\"M 600.86875 417.168125 \nL 1065.075 417.168125 \nL 1065.075 22.318125 \nL 600.86875 22.318125 \nz\n\" style=\"fill:#ffffff;\"/>\n   </g>\n   <g id=\"patch_18\">\n    <path clip-path=\"url(#p30c027592b)\" d=\"M 610.152875 417.168125 \nL 684.425875 417.168125 \nL 684.425875 41.120506 \nL 610.152875 41.120506 \nz\n\" style=\"fill:#3274a1;\"/>\n   </g>\n   <g id=\"patch_19\">\n    <path clip-path=\"url(#p30c027592b)\" d=\"M 702.994125 417.168125 \nL 777.267125 417.168125 \nL 777.267125 261.90439 \nL 702.994125 261.90439 \nz\n\" style=\"fill:#e1812c;\"/>\n   </g>\n   <g id=\"patch_20\">\n    <path clip-path=\"url(#p30c027592b)\" d=\"M 795.835375 417.168125 \nL 870.108375 417.168125 \nL 870.108375 290.513858 \nL 795.835375 290.513858 \nz\n\" style=\"fill:#3a923a;\"/>\n   </g>\n   <g id=\"patch_21\">\n    <path clip-path=\"url(#p30c027592b)\" d=\"M 888.676625 417.168125 \nL 962.949625 417.168125 \nL 962.949625 299.216135 \nL 888.676625 299.216135 \nz\n\" style=\"fill:#c03d3e;\"/>\n   </g>\n   <g id=\"patch_22\">\n    <path clip-path=\"url(#p30c027592b)\" d=\"M 981.517875 417.168125 \nL 1055.790875 417.168125 \nL 1055.790875 333.307339 \nL 981.517875 333.307339 \nz\n\" style=\"fill:#9372b2;\"/>\n   </g>\n   <g id=\"matplotlib.axis_3\">\n    <g id=\"xtick_11\">\n     <g id=\"line2d_27\">\n      <g>\n       <use style=\"stroke:#000000;stroke-width:0.8;\" x=\"647.289375\" xlink:href=\"#m25841fbf0c\" y=\"417.168125\"/>\n      </g>\n     </g>\n     <g id=\"text_20\">\n      <!-- &lt;29 -->\n      <g transform=\"translate(650.04875 445.272813)rotate(-90)scale(0.1 -0.1)\">\n       <defs>\n        <path d=\"M 4684 3150 \nL 1459 2003 \nL 4684 863 \nL 4684 294 \nL 678 1747 \nL 678 2266 \nL 4684 3719 \nL 4684 3150 \nz\n\" id=\"DejaVuSans-3c\" transform=\"scale(0.015625)\"/>\n       </defs>\n       <use xlink:href=\"#DejaVuSans-3c\"/>\n       <use x=\"83.789062\" xlink:href=\"#DejaVuSans-32\"/>\n       <use x=\"147.412109\" xlink:href=\"#DejaVuSans-39\"/>\n      </g>\n     </g>\n    </g>\n    <g id=\"xtick_12\">\n     <g id=\"line2d_28\">\n      <g>\n       <use style=\"stroke:#000000;stroke-width:0.8;\" x=\"740.130625\" xlink:href=\"#m25841fbf0c\" y=\"417.168125\"/>\n      </g>\n     </g>\n     <g id=\"text_21\">\n      <!-- &gt;=65 -->\n      <g transform=\"translate(742.89 453.6525)rotate(-90)scale(0.1 -0.1)\">\n       <defs>\n        <path d=\"M 678 3150 \nL 678 3719 \nL 4684 2266 \nL 4684 1747 \nL 678 294 \nL 678 863 \nL 3897 2003 \nL 678 3150 \nz\n\" id=\"DejaVuSans-3e\" transform=\"scale(0.015625)\"/>\n        <path d=\"M 678 2906 \nL 4684 2906 \nL 4684 2381 \nL 678 2381 \nL 678 2906 \nz\nM 678 1631 \nL 4684 1631 \nL 4684 1100 \nL 678 1100 \nL 678 1631 \nz\n\" id=\"DejaVuSans-3d\" transform=\"scale(0.015625)\"/>\n       </defs>\n       <use xlink:href=\"#DejaVuSans-3e\"/>\n       <use x=\"83.789062\" xlink:href=\"#DejaVuSans-3d\"/>\n       <use x=\"167.578125\" xlink:href=\"#DejaVuSans-36\"/>\n       <use x=\"231.201172\" xlink:href=\"#DejaVuSans-35\"/>\n      </g>\n     </g>\n    </g>\n    <g id=\"xtick_13\">\n     <g id=\"line2d_29\">\n      <g>\n       <use style=\"stroke:#000000;stroke-width:0.8;\" x=\"832.971875\" xlink:href=\"#m25841fbf0c\" y=\"417.168125\"/>\n      </g>\n     </g>\n     <g id=\"text_22\">\n      <!-- [36,49) -->\n      <g transform=\"translate(835.73125 460.599375)rotate(-90)scale(0.1 -0.1)\">\n       <defs>\n        <path d=\"M 550 4863 \nL 1875 4863 \nL 1875 4416 \nL 1125 4416 \nL 1125 -397 \nL 1875 -397 \nL 1875 -844 \nL 550 -844 \nL 550 4863 \nz\n\" id=\"DejaVuSans-5b\" transform=\"scale(0.015625)\"/>\n        <path d=\"M 750 794 \nL 1409 794 \nL 1409 256 \nL 897 -744 \nL 494 -744 \nL 750 256 \nL 750 794 \nz\n\" id=\"DejaVuSans-2c\" transform=\"scale(0.015625)\"/>\n        <path d=\"M 513 4856 \nL 1013 4856 \nQ 1481 4119 1714 3412 \nQ 1947 2706 1947 2009 \nQ 1947 1309 1714 600 \nQ 1481 -109 1013 -844 \nL 513 -844 \nQ 928 -128 1133 580 \nQ 1338 1288 1338 2009 \nQ 1338 2731 1133 3434 \nQ 928 4138 513 4856 \nz\n\" id=\"DejaVuSans-29\" transform=\"scale(0.015625)\"/>\n       </defs>\n       <use xlink:href=\"#DejaVuSans-5b\"/>\n       <use x=\"39.013672\" xlink:href=\"#DejaVuSans-33\"/>\n       <use x=\"102.636719\" xlink:href=\"#DejaVuSans-36\"/>\n       <use x=\"166.259766\" xlink:href=\"#DejaVuSans-2c\"/>\n       <use x=\"198.046875\" xlink:href=\"#DejaVuSans-34\"/>\n       <use x=\"261.669922\" xlink:href=\"#DejaVuSans-39\"/>\n       <use x=\"325.292969\" xlink:href=\"#DejaVuSans-29\"/>\n      </g>\n     </g>\n    </g>\n    <g id=\"xtick_14\">\n     <g id=\"line2d_30\">\n      <g>\n       <use style=\"stroke:#000000;stroke-width:0.8;\" x=\"925.813125\" xlink:href=\"#m25841fbf0c\" y=\"417.168125\"/>\n      </g>\n     </g>\n     <g id=\"text_23\">\n      <!-- [29,36) -->\n      <g transform=\"translate(928.5725 460.599375)rotate(-90)scale(0.1 -0.1)\">\n       <use xlink:href=\"#DejaVuSans-5b\"/>\n       <use x=\"39.013672\" xlink:href=\"#DejaVuSans-32\"/>\n       <use x=\"102.636719\" xlink:href=\"#DejaVuSans-39\"/>\n       <use x=\"166.259766\" xlink:href=\"#DejaVuSans-2c\"/>\n       <use x=\"198.046875\" xlink:href=\"#DejaVuSans-33\"/>\n       <use x=\"261.669922\" xlink:href=\"#DejaVuSans-36\"/>\n       <use x=\"325.292969\" xlink:href=\"#DejaVuSans-29\"/>\n      </g>\n     </g>\n    </g>\n    <g id=\"xtick_15\">\n     <g id=\"line2d_31\">\n      <g>\n       <use style=\"stroke:#000000;stroke-width:0.8;\" x=\"1018.654375\" xlink:href=\"#m25841fbf0c\" y=\"417.168125\"/>\n      </g>\n     </g>\n     <g id=\"text_24\">\n      <!-- [49,65) -->\n      <g transform=\"translate(1021.41375 460.599375)rotate(-90)scale(0.1 -0.1)\">\n       <use xlink:href=\"#DejaVuSans-5b\"/>\n       <use x=\"39.013672\" xlink:href=\"#DejaVuSans-34\"/>\n       <use x=\"102.636719\" xlink:href=\"#DejaVuSans-39\"/>\n       <use x=\"166.259766\" xlink:href=\"#DejaVuSans-2c\"/>\n       <use x=\"198.046875\" xlink:href=\"#DejaVuSans-36\"/>\n       <use x=\"261.669922\" xlink:href=\"#DejaVuSans-35\"/>\n       <use x=\"325.292969\" xlink:href=\"#DejaVuSans-29\"/>\n      </g>\n     </g>\n    </g>\n    <g id=\"text_25\">\n     <!-- index -->\n     <g transform=\"translate(819.291406 472.197813)scale(0.1 -0.1)\">\n      <use xlink:href=\"#DejaVuSans-69\"/>\n      <use x=\"27.783203\" xlink:href=\"#DejaVuSans-6e\"/>\n      <use x=\"91.162109\" xlink:href=\"#DejaVuSans-64\"/>\n      <use x=\"154.638672\" xlink:href=\"#DejaVuSans-65\"/>\n      <use x=\"214.412109\" xlink:href=\"#DejaVuSans-78\"/>\n     </g>\n    </g>\n   </g>\n   <g id=\"matplotlib.axis_4\">\n    <g id=\"ytick_7\">\n     <g id=\"line2d_32\">\n      <g>\n       <use style=\"stroke:#000000;stroke-width:0.8;\" x=\"600.86875\" xlink:href=\"#m5558a4844f\" y=\"417.168125\"/>\n      </g>\n     </g>\n     <g id=\"text_26\">\n      <!-- 0 -->\n      <g transform=\"translate(587.50625 420.967344)scale(0.1 -0.1)\">\n       <use xlink:href=\"#DejaVuSans-30\"/>\n      </g>\n     </g>\n    </g>\n    <g id=\"ytick_8\">\n     <g id=\"line2d_33\">\n      <g>\n       <use style=\"stroke:#000000;stroke-width:0.8;\" x=\"600.86875\" xlink:href=\"#m5558a4844f\" y=\"336.955414\"/>\n      </g>\n     </g>\n     <g id=\"text_27\">\n      <!-- 100000 -->\n      <g transform=\"translate(555.69375 340.754632)scale(0.1 -0.1)\">\n       <use xlink:href=\"#DejaVuSans-31\"/>\n       <use x=\"63.623047\" xlink:href=\"#DejaVuSans-30\"/>\n       <use x=\"127.246094\" xlink:href=\"#DejaVuSans-30\"/>\n       <use x=\"190.869141\" xlink:href=\"#DejaVuSans-30\"/>\n       <use x=\"254.492188\" xlink:href=\"#DejaVuSans-30\"/>\n       <use x=\"318.115234\" xlink:href=\"#DejaVuSans-30\"/>\n      </g>\n     </g>\n    </g>\n    <g id=\"ytick_9\">\n     <g id=\"line2d_34\">\n      <g>\n       <use style=\"stroke:#000000;stroke-width:0.8;\" x=\"600.86875\" xlink:href=\"#m5558a4844f\" y=\"256.742702\"/>\n      </g>\n     </g>\n     <g id=\"text_28\">\n      <!-- 200000 -->\n      <g transform=\"translate(555.69375 260.541921)scale(0.1 -0.1)\">\n       <use xlink:href=\"#DejaVuSans-32\"/>\n       <use x=\"63.623047\" xlink:href=\"#DejaVuSans-30\"/>\n       <use x=\"127.246094\" xlink:href=\"#DejaVuSans-30\"/>\n       <use x=\"190.869141\" xlink:href=\"#DejaVuSans-30\"/>\n       <use x=\"254.492188\" xlink:href=\"#DejaVuSans-30\"/>\n       <use x=\"318.115234\" xlink:href=\"#DejaVuSans-30\"/>\n      </g>\n     </g>\n    </g>\n    <g id=\"ytick_10\">\n     <g id=\"line2d_35\">\n      <g>\n       <use style=\"stroke:#000000;stroke-width:0.8;\" x=\"600.86875\" xlink:href=\"#m5558a4844f\" y=\"176.529991\"/>\n      </g>\n     </g>\n     <g id=\"text_29\">\n      <!-- 300000 -->\n      <g transform=\"translate(555.69375 180.329209)scale(0.1 -0.1)\">\n       <use xlink:href=\"#DejaVuSans-33\"/>\n       <use x=\"63.623047\" xlink:href=\"#DejaVuSans-30\"/>\n       <use x=\"127.246094\" xlink:href=\"#DejaVuSans-30\"/>\n       <use x=\"190.869141\" xlink:href=\"#DejaVuSans-30\"/>\n       <use x=\"254.492188\" xlink:href=\"#DejaVuSans-30\"/>\n       <use x=\"318.115234\" xlink:href=\"#DejaVuSans-30\"/>\n      </g>\n     </g>\n    </g>\n    <g id=\"ytick_11\">\n     <g id=\"line2d_36\">\n      <g>\n       <use style=\"stroke:#000000;stroke-width:0.8;\" x=\"600.86875\" xlink:href=\"#m5558a4844f\" y=\"96.317279\"/>\n      </g>\n     </g>\n     <g id=\"text_30\">\n      <!-- 400000 -->\n      <g transform=\"translate(555.69375 100.116498)scale(0.1 -0.1)\">\n       <use xlink:href=\"#DejaVuSans-34\"/>\n       <use x=\"63.623047\" xlink:href=\"#DejaVuSans-30\"/>\n       <use x=\"127.246094\" xlink:href=\"#DejaVuSans-30\"/>\n       <use x=\"190.869141\" xlink:href=\"#DejaVuSans-30\"/>\n       <use x=\"254.492188\" xlink:href=\"#DejaVuSans-30\"/>\n       <use x=\"318.115234\" xlink:href=\"#DejaVuSans-30\"/>\n      </g>\n     </g>\n    </g>\n    <g id=\"text_31\">\n     <!-- order_price_interval -->\n     <g transform=\"translate(549.335938 269.58375)rotate(-90)scale(0.1 -0.1)\">\n      <defs>\n       <path d=\"M 1159 525 \nL 1159 -1331 \nL 581 -1331 \nL 581 3500 \nL 1159 3500 \nL 1159 2969 \nQ 1341 3281 1617 3432 \nQ 1894 3584 2278 3584 \nQ 2916 3584 3314 3078 \nQ 3713 2572 3713 1747 \nQ 3713 922 3314 415 \nQ 2916 -91 2278 -91 \nQ 1894 -91 1617 61 \nQ 1341 213 1159 525 \nz\nM 3116 1747 \nQ 3116 2381 2855 2742 \nQ 2594 3103 2138 3103 \nQ 1681 3103 1420 2742 \nQ 1159 2381 1159 1747 \nQ 1159 1113 1420 752 \nQ 1681 391 2138 391 \nQ 2594 391 2855 752 \nQ 3116 1113 3116 1747 \nz\n\" id=\"DejaVuSans-70\" transform=\"scale(0.015625)\"/>\n       <path d=\"M 3122 3366 \nL 3122 2828 \nQ 2878 2963 2633 3030 \nQ 2388 3097 2138 3097 \nQ 1578 3097 1268 2742 \nQ 959 2388 959 1747 \nQ 959 1106 1268 751 \nQ 1578 397 2138 397 \nQ 2388 397 2633 464 \nQ 2878 531 3122 666 \nL 3122 134 \nQ 2881 22 2623 -34 \nQ 2366 -91 2075 -91 \nQ 1284 -91 818 406 \nQ 353 903 353 1747 \nQ 353 2603 823 3093 \nQ 1294 3584 2113 3584 \nQ 2378 3584 2631 3529 \nQ 2884 3475 3122 3366 \nz\n\" id=\"DejaVuSans-63\" transform=\"scale(0.015625)\"/>\n       <path d=\"M 1172 4494 \nL 1172 3500 \nL 2356 3500 \nL 2356 3053 \nL 1172 3053 \nL 1172 1153 \nQ 1172 725 1289 603 \nQ 1406 481 1766 481 \nL 2356 481 \nL 2356 0 \nL 1766 0 \nQ 1100 0 847 248 \nQ 594 497 594 1153 \nL 594 3053 \nL 172 3053 \nL 172 3500 \nL 594 3500 \nL 594 4494 \nL 1172 4494 \nz\n\" id=\"DejaVuSans-74\" transform=\"scale(0.015625)\"/>\n       <path d=\"M 191 3500 \nL 800 3500 \nL 1894 563 \nL 2988 3500 \nL 3597 3500 \nL 2284 0 \nL 1503 0 \nL 191 3500 \nz\n\" id=\"DejaVuSans-76\" transform=\"scale(0.015625)\"/>\n       <path d=\"M 603 4863 \nL 1178 4863 \nL 1178 0 \nL 603 0 \nL 603 4863 \nz\n\" id=\"DejaVuSans-6c\" transform=\"scale(0.015625)\"/>\n      </defs>\n      <use xlink:href=\"#DejaVuSans-6f\"/>\n      <use x=\"61.181641\" xlink:href=\"#DejaVuSans-72\"/>\n      <use x=\"100.544922\" xlink:href=\"#DejaVuSans-64\"/>\n      <use x=\"164.021484\" xlink:href=\"#DejaVuSans-65\"/>\n      <use x=\"225.544922\" xlink:href=\"#DejaVuSans-72\"/>\n      <use x=\"266.658203\" xlink:href=\"#DejaVuSans-5f\"/>\n      <use x=\"316.658203\" xlink:href=\"#DejaVuSans-70\"/>\n      <use x=\"380.134766\" xlink:href=\"#DejaVuSans-72\"/>\n      <use x=\"421.248047\" xlink:href=\"#DejaVuSans-69\"/>\n      <use x=\"449.03125\" xlink:href=\"#DejaVuSans-63\"/>\n      <use x=\"504.011719\" xlink:href=\"#DejaVuSans-65\"/>\n      <use x=\"565.535156\" xlink:href=\"#DejaVuSans-5f\"/>\n      <use x=\"615.535156\" xlink:href=\"#DejaVuSans-69\"/>\n      <use x=\"643.318359\" xlink:href=\"#DejaVuSans-6e\"/>\n      <use x=\"706.697266\" xlink:href=\"#DejaVuSans-74\"/>\n      <use x=\"745.90625\" xlink:href=\"#DejaVuSans-65\"/>\n      <use x=\"807.429688\" xlink:href=\"#DejaVuSans-72\"/>\n      <use x=\"848.542969\" xlink:href=\"#DejaVuSans-76\"/>\n      <use x=\"907.722656\" xlink:href=\"#DejaVuSans-61\"/>\n      <use x=\"969.001953\" xlink:href=\"#DejaVuSans-6c\"/>\n     </g>\n    </g>\n   </g>\n   <g id=\"line2d_37\">\n    <path clip-path=\"url(#p30c027592b)\" style=\"fill:none;stroke:#424242;stroke-linecap:square;stroke-width:2.7;\"/>\n   </g>\n   <g id=\"line2d_38\">\n    <path clip-path=\"url(#p30c027592b)\" style=\"fill:none;stroke:#424242;stroke-linecap:square;stroke-width:2.7;\"/>\n   </g>\n   <g id=\"line2d_39\">\n    <path clip-path=\"url(#p30c027592b)\" style=\"fill:none;stroke:#424242;stroke-linecap:square;stroke-width:2.7;\"/>\n   </g>\n   <g id=\"line2d_40\">\n    <path clip-path=\"url(#p30c027592b)\" style=\"fill:none;stroke:#424242;stroke-linecap:square;stroke-width:2.7;\"/>\n   </g>\n   <g id=\"line2d_41\">\n    <path clip-path=\"url(#p30c027592b)\" style=\"fill:none;stroke:#424242;stroke-linecap:square;stroke-width:2.7;\"/>\n   </g>\n   <g id=\"patch_23\">\n    <path d=\"M 600.86875 417.168125 \nL 600.86875 22.318125 \n\" style=\"fill:none;stroke:#000000;stroke-linecap:square;stroke-linejoin:miter;stroke-width:0.8;\"/>\n   </g>\n   <g id=\"patch_24\">\n    <path d=\"M 1065.075 417.168125 \nL 1065.075 22.318125 \n\" style=\"fill:none;stroke:#000000;stroke-linecap:square;stroke-linejoin:miter;stroke-width:0.8;\"/>\n   </g>\n   <g id=\"patch_25\">\n    <path d=\"M 600.86875 417.168125 \nL 1065.075 417.168125 \n\" style=\"fill:none;stroke:#000000;stroke-linecap:square;stroke-linejoin:miter;stroke-width:0.8;\"/>\n   </g>\n   <g id=\"patch_26\">\n    <path d=\"M 600.86875 22.318125 \nL 1065.075 22.318125 \n\" style=\"fill:none;stroke:#000000;stroke-linecap:square;stroke-linejoin:miter;stroke-width:0.8;\"/>\n   </g>\n   <g id=\"text_32\">\n    <!-- order_price_interval -->\n    <g transform=\"translate(773.163125 16.318125)scale(0.12 -0.12)\">\n     <use xlink:href=\"#DejaVuSans-6f\"/>\n     <use x=\"61.181641\" xlink:href=\"#DejaVuSans-72\"/>\n     <use x=\"100.544922\" xlink:href=\"#DejaVuSans-64\"/>\n     <use x=\"164.021484\" xlink:href=\"#DejaVuSans-65\"/>\n     <use x=\"225.544922\" xlink:href=\"#DejaVuSans-72\"/>\n     <use x=\"266.658203\" xlink:href=\"#DejaVuSans-5f\"/>\n     <use x=\"316.658203\" xlink:href=\"#DejaVuSans-70\"/>\n     <use x=\"380.134766\" xlink:href=\"#DejaVuSans-72\"/>\n     <use x=\"421.248047\" xlink:href=\"#DejaVuSans-69\"/>\n     <use x=\"449.03125\" xlink:href=\"#DejaVuSans-63\"/>\n     <use x=\"504.011719\" xlink:href=\"#DejaVuSans-65\"/>\n     <use x=\"565.535156\" xlink:href=\"#DejaVuSans-5f\"/>\n     <use x=\"615.535156\" xlink:href=\"#DejaVuSans-69\"/>\n     <use x=\"643.318359\" xlink:href=\"#DejaVuSans-6e\"/>\n     <use x=\"706.697266\" xlink:href=\"#DejaVuSans-74\"/>\n     <use x=\"745.90625\" xlink:href=\"#DejaVuSans-65\"/>\n     <use x=\"807.429688\" xlink:href=\"#DejaVuSans-72\"/>\n     <use x=\"848.542969\" xlink:href=\"#DejaVuSans-76\"/>\n     <use x=\"907.722656\" xlink:href=\"#DejaVuSans-61\"/>\n     <use x=\"969.001953\" xlink:href=\"#DejaVuSans-6c\"/>\n    </g>\n   </g>\n  </g>\n  <g id=\"axes_3\">\n   <g id=\"patch_27\">\n    <path d=\"M 66.33125 896.193125 \nL 530.5375 896.193125 \nL 530.5375 501.343125 \nL 66.33125 501.343125 \nz\n\" style=\"fill:#ffffff;\"/>\n   </g>\n   <g id=\"patch_28\">\n    <path clip-path=\"url(#p906c01793b)\" d=\"M 75.615375 896.193125 \nL 149.888375 896.193125 \nL 149.888375 823.913897 \nL 75.615375 823.913897 \nz\n\" style=\"fill:#3274a1;\"/>\n   </g>\n   <g id=\"patch_29\">\n    <path clip-path=\"url(#p906c01793b)\" d=\"M 168.456625 896.193125 \nL 242.729625 896.193125 \nL 242.729625 520.145506 \nL 168.456625 520.145506 \nz\n\" style=\"fill:#e1812c;\"/>\n   </g>\n   <g id=\"patch_30\">\n    <path clip-path=\"url(#p906c01793b)\" d=\"M 261.297875 896.193125 \nL 335.570875 896.193125 \nL 335.570875 804.086779 \nL 261.297875 804.086779 \nz\n\" style=\"fill:#3a923a;\"/>\n   </g>\n   <g id=\"patch_31\">\n    <path clip-path=\"url(#p906c01793b)\" d=\"M 354.139125 896.193125 \nL 428.412125 896.193125 \nL 428.412125 640.419375 \nL 354.139125 640.419375 \nz\n\" style=\"fill:#c03d3e;\"/>\n   </g>\n   <g id=\"patch_32\">\n    <path clip-path=\"url(#p906c01793b)\" d=\"M 446.980375 896.193125 \nL 521.253375 896.193125 \nL 521.253375 832.302447 \nL 446.980375 832.302447 \nz\n\" style=\"fill:#9372b2;\"/>\n   </g>\n   <g id=\"matplotlib.axis_5\">\n    <g id=\"xtick_16\">\n     <g id=\"line2d_42\">\n      <g>\n       <use style=\"stroke:#000000;stroke-width:0.8;\" x=\"112.751875\" xlink:href=\"#m25841fbf0c\" y=\"896.193125\"/>\n      </g>\n     </g>\n     <g id=\"text_33\">\n      <!-- 0 -->\n      <g transform=\"translate(115.51125 909.555625)rotate(-90)scale(0.1 -0.1)\">\n       <use xlink:href=\"#DejaVuSans-30\"/>\n      </g>\n     </g>\n    </g>\n    <g id=\"xtick_17\">\n     <g id=\"line2d_43\">\n      <g>\n       <use style=\"stroke:#000000;stroke-width:0.8;\" x=\"205.593125\" xlink:href=\"#m25841fbf0c\" y=\"896.193125\"/>\n      </g>\n     </g>\n     <g id=\"text_34\">\n      <!-- 1 -->\n      <g transform=\"translate(208.3525 909.555625)rotate(-90)scale(0.1 -0.1)\">\n       <use xlink:href=\"#DejaVuSans-31\"/>\n      </g>\n     </g>\n    </g>\n    <g id=\"xtick_18\">\n     <g id=\"line2d_44\">\n      <g>\n       <use style=\"stroke:#000000;stroke-width:0.8;\" x=\"298.434375\" xlink:href=\"#m25841fbf0c\" y=\"896.193125\"/>\n      </g>\n     </g>\n     <g id=\"text_35\">\n      <!-- 2 -->\n      <g transform=\"translate(301.19375 909.555625)rotate(-90)scale(0.1 -0.1)\">\n       <use xlink:href=\"#DejaVuSans-32\"/>\n      </g>\n     </g>\n    </g>\n    <g id=\"xtick_19\">\n     <g id=\"line2d_45\">\n      <g>\n       <use style=\"stroke:#000000;stroke-width:0.8;\" x=\"391.275625\" xlink:href=\"#m25841fbf0c\" y=\"896.193125\"/>\n      </g>\n     </g>\n     <g id=\"text_36\">\n      <!-- 3 -->\n      <g transform=\"translate(394.035 909.555625)rotate(-90)scale(0.1 -0.1)\">\n       <use xlink:href=\"#DejaVuSans-33\"/>\n      </g>\n     </g>\n    </g>\n    <g id=\"xtick_20\">\n     <g id=\"line2d_46\">\n      <g>\n       <use style=\"stroke:#000000;stroke-width:0.8;\" x=\"484.116875\" xlink:href=\"#m25841fbf0c\" y=\"896.193125\"/>\n      </g>\n     </g>\n     <g id=\"text_37\">\n      <!-- 4 -->\n      <g transform=\"translate(486.87625 909.555625)rotate(-90)scale(0.1 -0.1)\">\n       <use xlink:href=\"#DejaVuSans-34\"/>\n      </g>\n     </g>\n    </g>\n    <g id=\"text_38\">\n     <!-- index -->\n     <g transform=\"translate(284.753906 921.154063)scale(0.1 -0.1)\">\n      <use xlink:href=\"#DejaVuSans-69\"/>\n      <use x=\"27.783203\" xlink:href=\"#DejaVuSans-6e\"/>\n      <use x=\"91.162109\" xlink:href=\"#DejaVuSans-64\"/>\n      <use x=\"154.638672\" xlink:href=\"#DejaVuSans-65\"/>\n      <use x=\"214.412109\" xlink:href=\"#DejaVuSans-78\"/>\n     </g>\n    </g>\n   </g>\n   <g id=\"matplotlib.axis_6\">\n    <g id=\"ytick_12\">\n     <g id=\"line2d_47\">\n      <g>\n       <use style=\"stroke:#000000;stroke-width:0.8;\" x=\"66.33125\" xlink:href=\"#m5558a4844f\" y=\"896.193125\"/>\n      </g>\n     </g>\n     <g id=\"text_39\">\n      <!-- 0 -->\n      <g transform=\"translate(52.96875 899.992344)scale(0.1 -0.1)\">\n       <use xlink:href=\"#DejaVuSans-30\"/>\n      </g>\n     </g>\n    </g>\n    <g id=\"ytick_13\">\n     <g id=\"line2d_48\">\n      <g>\n       <use style=\"stroke:#000000;stroke-width:0.8;\" x=\"66.33125\" xlink:href=\"#m5558a4844f\" y=\"815.950632\"/>\n      </g>\n     </g>\n     <g id=\"text_40\">\n      <!-- 100000 -->\n      <g transform=\"translate(21.15625 819.74985)scale(0.1 -0.1)\">\n       <use xlink:href=\"#DejaVuSans-31\"/>\n       <use x=\"63.623047\" xlink:href=\"#DejaVuSans-30\"/>\n       <use x=\"127.246094\" xlink:href=\"#DejaVuSans-30\"/>\n       <use x=\"190.869141\" xlink:href=\"#DejaVuSans-30\"/>\n       <use x=\"254.492188\" xlink:href=\"#DejaVuSans-30\"/>\n       <use x=\"318.115234\" xlink:href=\"#DejaVuSans-30\"/>\n      </g>\n     </g>\n    </g>\n    <g id=\"ytick_14\">\n     <g id=\"line2d_49\">\n      <g>\n       <use style=\"stroke:#000000;stroke-width:0.8;\" x=\"66.33125\" xlink:href=\"#m5558a4844f\" y=\"735.708138\"/>\n      </g>\n     </g>\n     <g id=\"text_41\">\n      <!-- 200000 -->\n      <g transform=\"translate(21.15625 739.507357)scale(0.1 -0.1)\">\n       <use xlink:href=\"#DejaVuSans-32\"/>\n       <use x=\"63.623047\" xlink:href=\"#DejaVuSans-30\"/>\n       <use x=\"127.246094\" xlink:href=\"#DejaVuSans-30\"/>\n       <use x=\"190.869141\" xlink:href=\"#DejaVuSans-30\"/>\n       <use x=\"254.492188\" xlink:href=\"#DejaVuSans-30\"/>\n       <use x=\"318.115234\" xlink:href=\"#DejaVuSans-30\"/>\n      </g>\n     </g>\n    </g>\n    <g id=\"ytick_15\">\n     <g id=\"line2d_50\">\n      <g>\n       <use style=\"stroke:#000000;stroke-width:0.8;\" x=\"66.33125\" xlink:href=\"#m5558a4844f\" y=\"655.465645\"/>\n      </g>\n     </g>\n     <g id=\"text_42\">\n      <!-- 300000 -->\n      <g transform=\"translate(21.15625 659.264863)scale(0.1 -0.1)\">\n       <use xlink:href=\"#DejaVuSans-33\"/>\n       <use x=\"63.623047\" xlink:href=\"#DejaVuSans-30\"/>\n       <use x=\"127.246094\" xlink:href=\"#DejaVuSans-30\"/>\n       <use x=\"190.869141\" xlink:href=\"#DejaVuSans-30\"/>\n       <use x=\"254.492188\" xlink:href=\"#DejaVuSans-30\"/>\n       <use x=\"318.115234\" xlink:href=\"#DejaVuSans-30\"/>\n      </g>\n     </g>\n    </g>\n    <g id=\"ytick_16\">\n     <g id=\"line2d_51\">\n      <g>\n       <use style=\"stroke:#000000;stroke-width:0.8;\" x=\"66.33125\" xlink:href=\"#m5558a4844f\" y=\"575.223151\"/>\n      </g>\n     </g>\n     <g id=\"text_43\">\n      <!-- 400000 -->\n      <g transform=\"translate(21.15625 579.02237)scale(0.1 -0.1)\">\n       <use xlink:href=\"#DejaVuSans-34\"/>\n       <use x=\"63.623047\" xlink:href=\"#DejaVuSans-30\"/>\n       <use x=\"127.246094\" xlink:href=\"#DejaVuSans-30\"/>\n       <use x=\"190.869141\" xlink:href=\"#DejaVuSans-30\"/>\n       <use x=\"254.492188\" xlink:href=\"#DejaVuSans-30\"/>\n       <use x=\"318.115234\" xlink:href=\"#DejaVuSans-30\"/>\n      </g>\n     </g>\n    </g>\n    <g id=\"text_44\">\n     <!-- ord_period_name -->\n     <g transform=\"translate(14.798438 742.078281)rotate(-90)scale(0.1 -0.1)\">\n      <defs>\n       <path d=\"M 3328 2828 \nQ 3544 3216 3844 3400 \nQ 4144 3584 4550 3584 \nQ 5097 3584 5394 3201 \nQ 5691 2819 5691 2113 \nL 5691 0 \nL 5113 0 \nL 5113 2094 \nQ 5113 2597 4934 2840 \nQ 4756 3084 4391 3084 \nQ 3944 3084 3684 2787 \nQ 3425 2491 3425 1978 \nL 3425 0 \nL 2847 0 \nL 2847 2094 \nQ 2847 2600 2669 2842 \nQ 2491 3084 2119 3084 \nQ 1678 3084 1418 2786 \nQ 1159 2488 1159 1978 \nL 1159 0 \nL 581 0 \nL 581 3500 \nL 1159 3500 \nL 1159 2956 \nQ 1356 3278 1631 3431 \nQ 1906 3584 2284 3584 \nQ 2666 3584 2933 3390 \nQ 3200 3197 3328 2828 \nz\n\" id=\"DejaVuSans-6d\" transform=\"scale(0.015625)\"/>\n      </defs>\n      <use xlink:href=\"#DejaVuSans-6f\"/>\n      <use x=\"61.181641\" xlink:href=\"#DejaVuSans-72\"/>\n      <use x=\"100.544922\" xlink:href=\"#DejaVuSans-64\"/>\n      <use x=\"164.021484\" xlink:href=\"#DejaVuSans-5f\"/>\n      <use x=\"214.021484\" xlink:href=\"#DejaVuSans-70\"/>\n      <use x=\"277.498047\" xlink:href=\"#DejaVuSans-65\"/>\n      <use x=\"339.021484\" xlink:href=\"#DejaVuSans-72\"/>\n      <use x=\"380.134766\" xlink:href=\"#DejaVuSans-69\"/>\n      <use x=\"407.917969\" xlink:href=\"#DejaVuSans-6f\"/>\n      <use x=\"469.099609\" xlink:href=\"#DejaVuSans-64\"/>\n      <use x=\"532.576172\" xlink:href=\"#DejaVuSans-5f\"/>\n      <use x=\"582.576172\" xlink:href=\"#DejaVuSans-6e\"/>\n      <use x=\"645.955078\" xlink:href=\"#DejaVuSans-61\"/>\n      <use x=\"707.234375\" xlink:href=\"#DejaVuSans-6d\"/>\n      <use x=\"804.646484\" xlink:href=\"#DejaVuSans-65\"/>\n     </g>\n    </g>\n   </g>\n   <g id=\"line2d_52\">\n    <path clip-path=\"url(#p906c01793b)\" style=\"fill:none;stroke:#424242;stroke-linecap:square;stroke-width:2.7;\"/>\n   </g>\n   <g id=\"line2d_53\">\n    <path clip-path=\"url(#p906c01793b)\" style=\"fill:none;stroke:#424242;stroke-linecap:square;stroke-width:2.7;\"/>\n   </g>\n   <g id=\"line2d_54\">\n    <path clip-path=\"url(#p906c01793b)\" style=\"fill:none;stroke:#424242;stroke-linecap:square;stroke-width:2.7;\"/>\n   </g>\n   <g id=\"line2d_55\">\n    <path clip-path=\"url(#p906c01793b)\" style=\"fill:none;stroke:#424242;stroke-linecap:square;stroke-width:2.7;\"/>\n   </g>\n   <g id=\"line2d_56\">\n    <path clip-path=\"url(#p906c01793b)\" style=\"fill:none;stroke:#424242;stroke-linecap:square;stroke-width:2.7;\"/>\n   </g>\n   <g id=\"patch_33\">\n    <path d=\"M 66.33125 896.193125 \nL 66.33125 501.343125 \n\" style=\"fill:none;stroke:#000000;stroke-linecap:square;stroke-linejoin:miter;stroke-width:0.8;\"/>\n   </g>\n   <g id=\"patch_34\">\n    <path d=\"M 530.5375 896.193125 \nL 530.5375 501.343125 \n\" style=\"fill:none;stroke:#000000;stroke-linecap:square;stroke-linejoin:miter;stroke-width:0.8;\"/>\n   </g>\n   <g id=\"patch_35\">\n    <path d=\"M 66.33125 896.193125 \nL 530.5375 896.193125 \n\" style=\"fill:none;stroke:#000000;stroke-linecap:square;stroke-linejoin:miter;stroke-width:0.8;\"/>\n   </g>\n   <g id=\"patch_36\">\n    <path d=\"M 66.33125 501.343125 \nL 530.5375 501.343125 \n\" style=\"fill:none;stroke:#000000;stroke-linecap:square;stroke-linejoin:miter;stroke-width:0.8;\"/>\n   </g>\n   <g id=\"text_45\">\n    <!-- ord_period_name -->\n    <g transform=\"translate(246.462188 495.343125)scale(0.12 -0.12)\">\n     <use xlink:href=\"#DejaVuSans-6f\"/>\n     <use x=\"61.181641\" xlink:href=\"#DejaVuSans-72\"/>\n     <use x=\"100.544922\" xlink:href=\"#DejaVuSans-64\"/>\n     <use x=\"164.021484\" xlink:href=\"#DejaVuSans-5f\"/>\n     <use x=\"214.021484\" xlink:href=\"#DejaVuSans-70\"/>\n     <use x=\"277.498047\" xlink:href=\"#DejaVuSans-65\"/>\n     <use x=\"339.021484\" xlink:href=\"#DejaVuSans-72\"/>\n     <use x=\"380.134766\" xlink:href=\"#DejaVuSans-69\"/>\n     <use x=\"407.917969\" xlink:href=\"#DejaVuSans-6f\"/>\n     <use x=\"469.099609\" xlink:href=\"#DejaVuSans-64\"/>\n     <use x=\"532.576172\" xlink:href=\"#DejaVuSans-5f\"/>\n     <use x=\"582.576172\" xlink:href=\"#DejaVuSans-6e\"/>\n     <use x=\"645.955078\" xlink:href=\"#DejaVuSans-61\"/>\n     <use x=\"707.234375\" xlink:href=\"#DejaVuSans-6d\"/>\n     <use x=\"804.646484\" xlink:href=\"#DejaVuSans-65\"/>\n    </g>\n   </g>\n  </g>\n  <g id=\"axes_4\">\n   <g id=\"patch_37\">\n    <path d=\"M 600.86875 896.193125 \nL 1065.075 896.193125 \nL 1065.075 501.343125 \nL 600.86875 501.343125 \nz\n\" style=\"fill:#ffffff;\"/>\n   </g>\n   <g id=\"patch_38\">\n    <path clip-path=\"url(#p4a4471b4c0)\" d=\"M 605.510813 896.193125 \nL 642.647312 896.193125 \nL 642.647312 520.145506 \nL 605.510813 520.145506 \nz\n\" style=\"fill:#3274a1;\"/>\n   </g>\n   <g id=\"patch_39\">\n    <path clip-path=\"url(#p4a4471b4c0)\" d=\"M 651.931438 896.193125 \nL 689.067938 896.193125 \nL 689.067938 770.382006 \nL 651.931438 770.382006 \nz\n\" style=\"fill:#e1812c;\"/>\n   </g>\n   <g id=\"patch_40\">\n    <path clip-path=\"url(#p4a4471b4c0)\" d=\"M 698.352063 896.193125 \nL 735.488563 896.193125 \nL 735.488563 832.62166 \nL 698.352063 832.62166 \nz\n\" style=\"fill:#3a923a;\"/>\n   </g>\n   <g id=\"patch_41\">\n    <path clip-path=\"url(#p4a4471b4c0)\" d=\"M 744.772688 896.193125 \nL 781.909188 896.193125 \nL 781.909188 850.788078 \nL 744.772688 850.788078 \nz\n\" style=\"fill:#c03d3e;\"/>\n   </g>\n   <g id=\"patch_42\">\n    <path clip-path=\"url(#p4a4471b4c0)\" d=\"M 791.193313 896.193125 \nL 828.329813 896.193125 \nL 828.329813 855.441968 \nL 791.193313 855.441968 \nz\n\" style=\"fill:#9372b2;\"/>\n   </g>\n   <g id=\"patch_43\">\n    <path clip-path=\"url(#p4a4471b4c0)\" d=\"M 837.613938 896.193125 \nL 874.750437 896.193125 \nL 874.750437 857.33077 \nL 837.613938 857.33077 \nz\n\" style=\"fill:#845b53;\"/>\n   </g>\n   <g id=\"patch_44\">\n    <path clip-path=\"url(#p4a4471b4c0)\" d=\"M 884.034562 896.193125 \nL 921.171062 896.193125 \nL 921.171062 869.561864 \nL 884.034562 869.561864 \nz\n\" style=\"fill:#d684bd;\"/>\n   </g>\n   <g id=\"patch_45\">\n    <path clip-path=\"url(#p4a4471b4c0)\" d=\"M 930.455188 896.193125 \nL 967.591688 896.193125 \nL 967.591688 877.056762 \nL 930.455188 877.056762 \nz\n\" style=\"fill:#7f7f7f;\"/>\n   </g>\n   <g id=\"patch_46\">\n    <path clip-path=\"url(#p4a4471b4c0)\" d=\"M 976.875813 896.193125 \nL 1014.012313 896.193125 \nL 1014.012313 881.079159 \nL 976.875813 881.079159 \nz\n\" style=\"fill:#a9aa35;\"/>\n   </g>\n   <g id=\"patch_47\">\n    <path clip-path=\"url(#p4a4471b4c0)\" d=\"M 1023.296438 896.193125 \nL 1060.432938 896.193125 \nL 1060.432938 886.983972 \nL 1023.296438 886.983972 \nz\n\" style=\"fill:#2eabb8;\"/>\n   </g>\n   <g id=\"matplotlib.axis_7\">\n    <g id=\"xtick_21\">\n     <g id=\"line2d_57\">\n      <g>\n       <use style=\"stroke:#000000;stroke-width:0.8;\" x=\"624.079063\" xlink:href=\"#m25841fbf0c\" y=\"896.193125\"/>\n      </g>\n     </g>\n     <g id=\"text_46\">\n      <!-- 0 -->\n      <g transform=\"translate(626.838438 909.555625)rotate(-90)scale(0.1 -0.1)\">\n       <use xlink:href=\"#DejaVuSans-30\"/>\n      </g>\n     </g>\n    </g>\n    <g id=\"xtick_22\">\n     <g id=\"line2d_58\">\n      <g>\n       <use style=\"stroke:#000000;stroke-width:0.8;\" x=\"670.499688\" xlink:href=\"#m25841fbf0c\" y=\"896.193125\"/>\n      </g>\n     </g>\n     <g id=\"text_47\">\n      <!-- 1 -->\n      <g transform=\"translate(673.259063 909.555625)rotate(-90)scale(0.1 -0.1)\">\n       <use xlink:href=\"#DejaVuSans-31\"/>\n      </g>\n     </g>\n    </g>\n    <g id=\"xtick_23\">\n     <g id=\"line2d_59\">\n      <g>\n       <use style=\"stroke:#000000;stroke-width:0.8;\" x=\"716.920313\" xlink:href=\"#m25841fbf0c\" y=\"896.193125\"/>\n      </g>\n     </g>\n     <g id=\"text_48\">\n      <!-- 未知 -->\n      <g transform=\"translate(719.679688 915.19625)rotate(-90)scale(0.1 -0.1)\">\n       <defs>\n        <path d=\"M 319 -1131 \nL 319 4513 \nL 3519 4513 \nL 3519 -1131 \nL 319 -1131 \nz\nM 678 -775 \nL 3163 -775 \nL 3163 4153 \nL 678 4153 \nL 678 -775 \nz\n\" id=\"DejaVuSans-672a\" transform=\"scale(0.015625)\"/>\n        <path d=\"M 319 -1131 \nL 319 4513 \nL 3519 4513 \nL 3519 -1131 \nL 319 -1131 \nz\nM 678 -775 \nL 3163 -775 \nL 3163 4153 \nL 678 4153 \nL 678 -775 \nz\n\" id=\"DejaVuSans-77e5\" transform=\"scale(0.015625)\"/>\n       </defs>\n       <use xlink:href=\"#DejaVuSans-672a\"/>\n       <use x=\"60.009766\" xlink:href=\"#DejaVuSans-77e5\"/>\n      </g>\n     </g>\n    </g>\n    <g id=\"xtick_24\">\n     <g id=\"line2d_60\">\n      <g>\n       <use style=\"stroke:#000000;stroke-width:0.8;\" x=\"763.340938\" xlink:href=\"#m25841fbf0c\" y=\"896.193125\"/>\n      </g>\n     </g>\n     <g id=\"text_49\">\n      <!-- 6 -->\n      <g transform=\"translate(766.100313 909.555625)rotate(-90)scale(0.1 -0.1)\">\n       <use xlink:href=\"#DejaVuSans-36\"/>\n      </g>\n     </g>\n    </g>\n    <g id=\"xtick_25\">\n     <g id=\"line2d_61\">\n      <g>\n       <use style=\"stroke:#000000;stroke-width:0.8;\" x=\"809.761563\" xlink:href=\"#m25841fbf0c\" y=\"896.193125\"/>\n      </g>\n     </g>\n     <g id=\"text_50\">\n      <!-- 2 -->\n      <g transform=\"translate(812.520938 909.555625)rotate(-90)scale(0.1 -0.1)\">\n       <use xlink:href=\"#DejaVuSans-32\"/>\n      </g>\n     </g>\n    </g>\n    <g id=\"xtick_26\">\n     <g id=\"line2d_62\">\n      <g>\n       <use style=\"stroke:#000000;stroke-width:0.8;\" x=\"856.182188\" xlink:href=\"#m25841fbf0c\" y=\"896.193125\"/>\n      </g>\n     </g>\n     <g id=\"text_51\">\n      <!-- 4 -->\n      <g transform=\"translate(858.941563 909.555625)rotate(-90)scale(0.1 -0.1)\">\n       <use xlink:href=\"#DejaVuSans-34\"/>\n      </g>\n     </g>\n    </g>\n    <g id=\"xtick_27\">\n     <g id=\"line2d_63\">\n      <g>\n       <use style=\"stroke:#000000;stroke-width:0.8;\" x=\"902.602813\" xlink:href=\"#m25841fbf0c\" y=\"896.193125\"/>\n      </g>\n     </g>\n     <g id=\"text_52\">\n      <!-- 5 -->\n      <g transform=\"translate(905.362188 909.555625)rotate(-90)scale(0.1 -0.1)\">\n       <use xlink:href=\"#DejaVuSans-35\"/>\n      </g>\n     </g>\n    </g>\n    <g id=\"xtick_28\">\n     <g id=\"line2d_64\">\n      <g>\n       <use style=\"stroke:#000000;stroke-width:0.8;\" x=\"949.023438\" xlink:href=\"#m25841fbf0c\" y=\"896.193125\"/>\n      </g>\n     </g>\n     <g id=\"text_53\">\n      <!-- 3 -->\n      <g transform=\"translate(951.782813 909.555625)rotate(-90)scale(0.1 -0.1)\">\n       <use xlink:href=\"#DejaVuSans-33\"/>\n      </g>\n     </g>\n    </g>\n    <g id=\"xtick_29\">\n     <g id=\"line2d_65\">\n      <g>\n       <use style=\"stroke:#000000;stroke-width:0.8;\" x=\"995.444063\" xlink:href=\"#m25841fbf0c\" y=\"896.193125\"/>\n      </g>\n     </g>\n     <g id=\"text_54\">\n      <!-- 7 -->\n      <g transform=\"translate(998.203438 909.555625)rotate(-90)scale(0.1 -0.1)\">\n       <defs>\n        <path d=\"M 525 4666 \nL 3525 4666 \nL 3525 4397 \nL 1831 0 \nL 1172 0 \nL 2766 4134 \nL 525 4134 \nL 525 4666 \nz\n\" id=\"DejaVuSans-37\" transform=\"scale(0.015625)\"/>\n       </defs>\n       <use xlink:href=\"#DejaVuSans-37\"/>\n      </g>\n     </g>\n    </g>\n    <g id=\"xtick_30\">\n     <g id=\"line2d_66\">\n      <g>\n       <use style=\"stroke:#000000;stroke-width:0.8;\" x=\"1041.864687\" xlink:href=\"#m25841fbf0c\" y=\"896.193125\"/>\n      </g>\n     </g>\n     <g id=\"text_55\">\n      <!-- 8 -->\n      <g transform=\"translate(1044.624063 909.555625)rotate(-90)scale(0.1 -0.1)\">\n       <use xlink:href=\"#DejaVuSans-38\"/>\n      </g>\n     </g>\n    </g>\n    <g id=\"text_56\">\n     <!-- index -->\n     <g transform=\"translate(819.291406 926.794688)scale(0.1 -0.1)\">\n      <use xlink:href=\"#DejaVuSans-69\"/>\n      <use x=\"27.783203\" xlink:href=\"#DejaVuSans-6e\"/>\n      <use x=\"91.162109\" xlink:href=\"#DejaVuSans-64\"/>\n      <use x=\"154.638672\" xlink:href=\"#DejaVuSans-65\"/>\n      <use x=\"214.412109\" xlink:href=\"#DejaVuSans-78\"/>\n     </g>\n    </g>\n   </g>\n   <g id=\"matplotlib.axis_8\">\n    <g id=\"ytick_17\">\n     <g id=\"line2d_67\">\n      <g>\n       <use style=\"stroke:#000000;stroke-width:0.8;\" x=\"600.86875\" xlink:href=\"#m5558a4844f\" y=\"896.193125\"/>\n      </g>\n     </g>\n     <g id=\"text_57\">\n      <!-- 0 -->\n      <g transform=\"translate(587.50625 899.992344)scale(0.1 -0.1)\">\n       <use xlink:href=\"#DejaVuSans-30\"/>\n      </g>\n     </g>\n    </g>\n    <g id=\"ytick_18\">\n     <g id=\"line2d_68\">\n      <g>\n       <use style=\"stroke:#000000;stroke-width:0.8;\" x=\"600.86875\" xlink:href=\"#m5558a4844f\" y=\"825.23887\"/>\n      </g>\n     </g>\n     <g id=\"text_58\">\n      <!-- 100000 -->\n      <g transform=\"translate(555.69375 829.038089)scale(0.1 -0.1)\">\n       <use xlink:href=\"#DejaVuSans-31\"/>\n       <use x=\"63.623047\" xlink:href=\"#DejaVuSans-30\"/>\n       <use x=\"127.246094\" xlink:href=\"#DejaVuSans-30\"/>\n       <use x=\"190.869141\" xlink:href=\"#DejaVuSans-30\"/>\n       <use x=\"254.492188\" xlink:href=\"#DejaVuSans-30\"/>\n       <use x=\"318.115234\" xlink:href=\"#DejaVuSans-30\"/>\n      </g>\n     </g>\n    </g>\n    <g id=\"ytick_19\">\n     <g id=\"line2d_69\">\n      <g>\n       <use style=\"stroke:#000000;stroke-width:0.8;\" x=\"600.86875\" xlink:href=\"#m5558a4844f\" y=\"754.284615\"/>\n      </g>\n     </g>\n     <g id=\"text_59\">\n      <!-- 200000 -->\n      <g transform=\"translate(555.69375 758.083833)scale(0.1 -0.1)\">\n       <use xlink:href=\"#DejaVuSans-32\"/>\n       <use x=\"63.623047\" xlink:href=\"#DejaVuSans-30\"/>\n       <use x=\"127.246094\" xlink:href=\"#DejaVuSans-30\"/>\n       <use x=\"190.869141\" xlink:href=\"#DejaVuSans-30\"/>\n       <use x=\"254.492188\" xlink:href=\"#DejaVuSans-30\"/>\n       <use x=\"318.115234\" xlink:href=\"#DejaVuSans-30\"/>\n      </g>\n     </g>\n    </g>\n    <g id=\"ytick_20\">\n     <g id=\"line2d_70\">\n      <g>\n       <use style=\"stroke:#000000;stroke-width:0.8;\" x=\"600.86875\" xlink:href=\"#m5558a4844f\" y=\"683.330359\"/>\n      </g>\n     </g>\n     <g id=\"text_60\">\n      <!-- 300000 -->\n      <g transform=\"translate(555.69375 687.129578)scale(0.1 -0.1)\">\n       <use xlink:href=\"#DejaVuSans-33\"/>\n       <use x=\"63.623047\" xlink:href=\"#DejaVuSans-30\"/>\n       <use x=\"127.246094\" xlink:href=\"#DejaVuSans-30\"/>\n       <use x=\"190.869141\" xlink:href=\"#DejaVuSans-30\"/>\n       <use x=\"254.492188\" xlink:href=\"#DejaVuSans-30\"/>\n       <use x=\"318.115234\" xlink:href=\"#DejaVuSans-30\"/>\n      </g>\n     </g>\n    </g>\n    <g id=\"ytick_21\">\n     <g id=\"line2d_71\">\n      <g>\n       <use style=\"stroke:#000000;stroke-width:0.8;\" x=\"600.86875\" xlink:href=\"#m5558a4844f\" y=\"612.376104\"/>\n      </g>\n     </g>\n     <g id=\"text_61\">\n      <!-- 400000 -->\n      <g transform=\"translate(555.69375 616.175323)scale(0.1 -0.1)\">\n       <use xlink:href=\"#DejaVuSans-34\"/>\n       <use x=\"63.623047\" xlink:href=\"#DejaVuSans-30\"/>\n       <use x=\"127.246094\" xlink:href=\"#DejaVuSans-30\"/>\n       <use x=\"190.869141\" xlink:href=\"#DejaVuSans-30\"/>\n       <use x=\"254.492188\" xlink:href=\"#DejaVuSans-30\"/>\n       <use x=\"318.115234\" xlink:href=\"#DejaVuSans-30\"/>\n      </g>\n     </g>\n    </g>\n    <g id=\"ytick_22\">\n     <g id=\"line2d_72\">\n      <g>\n       <use style=\"stroke:#000000;stroke-width:0.8;\" x=\"600.86875\" xlink:href=\"#m5558a4844f\" y=\"541.421849\"/>\n      </g>\n     </g>\n     <g id=\"text_62\">\n      <!-- 500000 -->\n      <g transform=\"translate(555.69375 545.221068)scale(0.1 -0.1)\">\n       <use xlink:href=\"#DejaVuSans-35\"/>\n       <use x=\"63.623047\" xlink:href=\"#DejaVuSans-30\"/>\n       <use x=\"127.246094\" xlink:href=\"#DejaVuSans-30\"/>\n       <use x=\"190.869141\" xlink:href=\"#DejaVuSans-30\"/>\n       <use x=\"254.492188\" xlink:href=\"#DejaVuSans-30\"/>\n       <use x=\"318.115234\" xlink:href=\"#DejaVuSans-30\"/>\n      </g>\n     </g>\n    </g>\n    <g id=\"text_63\">\n     <!-- order_scene_name -->\n     <g transform=\"translate(549.335938 745.957188)rotate(-90)scale(0.1 -0.1)\">\n      <defs>\n       <path d=\"M 2834 3397 \nL 2834 2853 \nQ 2591 2978 2328 3040 \nQ 2066 3103 1784 3103 \nQ 1356 3103 1142 2972 \nQ 928 2841 928 2578 \nQ 928 2378 1081 2264 \nQ 1234 2150 1697 2047 \nL 1894 2003 \nQ 2506 1872 2764 1633 \nQ 3022 1394 3022 966 \nQ 3022 478 2636 193 \nQ 2250 -91 1575 -91 \nQ 1294 -91 989 -36 \nQ 684 19 347 128 \nL 347 722 \nQ 666 556 975 473 \nQ 1284 391 1588 391 \nQ 1994 391 2212 530 \nQ 2431 669 2431 922 \nQ 2431 1156 2273 1281 \nQ 2116 1406 1581 1522 \nL 1381 1569 \nQ 847 1681 609 1914 \nQ 372 2147 372 2553 \nQ 372 3047 722 3315 \nQ 1072 3584 1716 3584 \nQ 2034 3584 2315 3537 \nQ 2597 3491 2834 3397 \nz\n\" id=\"DejaVuSans-73\" transform=\"scale(0.015625)\"/>\n      </defs>\n      <use xlink:href=\"#DejaVuSans-6f\"/>\n      <use x=\"61.181641\" xlink:href=\"#DejaVuSans-72\"/>\n      <use x=\"100.544922\" xlink:href=\"#DejaVuSans-64\"/>\n      <use x=\"164.021484\" xlink:href=\"#DejaVuSans-65\"/>\n      <use x=\"225.544922\" xlink:href=\"#DejaVuSans-72\"/>\n      <use x=\"266.658203\" xlink:href=\"#DejaVuSans-5f\"/>\n      <use x=\"316.658203\" xlink:href=\"#DejaVuSans-73\"/>\n      <use x=\"368.757812\" xlink:href=\"#DejaVuSans-63\"/>\n      <use x=\"423.738281\" xlink:href=\"#DejaVuSans-65\"/>\n      <use x=\"485.261719\" xlink:href=\"#DejaVuSans-6e\"/>\n      <use x=\"548.640625\" xlink:href=\"#DejaVuSans-65\"/>\n      <use x=\"610.164062\" xlink:href=\"#DejaVuSans-5f\"/>\n      <use x=\"660.164062\" xlink:href=\"#DejaVuSans-6e\"/>\n      <use x=\"723.542969\" xlink:href=\"#DejaVuSans-61\"/>\n      <use x=\"784.822266\" xlink:href=\"#DejaVuSans-6d\"/>\n      <use x=\"882.234375\" xlink:href=\"#DejaVuSans-65\"/>\n     </g>\n    </g>\n   </g>\n   <g id=\"line2d_73\">\n    <path clip-path=\"url(#p4a4471b4c0)\" style=\"fill:none;stroke:#424242;stroke-linecap:square;stroke-width:2.7;\"/>\n   </g>\n   <g id=\"line2d_74\">\n    <path clip-path=\"url(#p4a4471b4c0)\" style=\"fill:none;stroke:#424242;stroke-linecap:square;stroke-width:2.7;\"/>\n   </g>\n   <g id=\"line2d_75\">\n    <path clip-path=\"url(#p4a4471b4c0)\" style=\"fill:none;stroke:#424242;stroke-linecap:square;stroke-width:2.7;\"/>\n   </g>\n   <g id=\"line2d_76\">\n    <path clip-path=\"url(#p4a4471b4c0)\" style=\"fill:none;stroke:#424242;stroke-linecap:square;stroke-width:2.7;\"/>\n   </g>\n   <g id=\"line2d_77\">\n    <path clip-path=\"url(#p4a4471b4c0)\" style=\"fill:none;stroke:#424242;stroke-linecap:square;stroke-width:2.7;\"/>\n   </g>\n   <g id=\"line2d_78\">\n    <path clip-path=\"url(#p4a4471b4c0)\" style=\"fill:none;stroke:#424242;stroke-linecap:square;stroke-width:2.7;\"/>\n   </g>\n   <g id=\"line2d_79\">\n    <path clip-path=\"url(#p4a4471b4c0)\" style=\"fill:none;stroke:#424242;stroke-linecap:square;stroke-width:2.7;\"/>\n   </g>\n   <g id=\"line2d_80\">\n    <path clip-path=\"url(#p4a4471b4c0)\" style=\"fill:none;stroke:#424242;stroke-linecap:square;stroke-width:2.7;\"/>\n   </g>\n   <g id=\"line2d_81\">\n    <path clip-path=\"url(#p4a4471b4c0)\" style=\"fill:none;stroke:#424242;stroke-linecap:square;stroke-width:2.7;\"/>\n   </g>\n   <g id=\"line2d_82\">\n    <path clip-path=\"url(#p4a4471b4c0)\" style=\"fill:none;stroke:#424242;stroke-linecap:square;stroke-width:2.7;\"/>\n   </g>\n   <g id=\"patch_48\">\n    <path d=\"M 600.86875 896.193125 \nL 600.86875 501.343125 \n\" style=\"fill:none;stroke:#000000;stroke-linecap:square;stroke-linejoin:miter;stroke-width:0.8;\"/>\n   </g>\n   <g id=\"patch_49\">\n    <path d=\"M 1065.075 896.193125 \nL 1065.075 501.343125 \n\" style=\"fill:none;stroke:#000000;stroke-linecap:square;stroke-linejoin:miter;stroke-width:0.8;\"/>\n   </g>\n   <g id=\"patch_50\">\n    <path d=\"M 600.86875 896.193125 \nL 1065.075 896.193125 \n\" style=\"fill:none;stroke:#000000;stroke-linecap:square;stroke-linejoin:miter;stroke-width:0.8;\"/>\n   </g>\n   <g id=\"patch_51\">\n    <path d=\"M 600.86875 501.343125 \nL 1065.075 501.343125 \n\" style=\"fill:none;stroke:#000000;stroke-linecap:square;stroke-linejoin:miter;stroke-width:0.8;\"/>\n   </g>\n   <g id=\"text_64\">\n    <!-- order_scene_name -->\n    <g transform=\"translate(776.345 495.343125)scale(0.12 -0.12)\">\n     <use xlink:href=\"#DejaVuSans-6f\"/>\n     <use x=\"61.181641\" xlink:href=\"#DejaVuSans-72\"/>\n     <use x=\"100.544922\" xlink:href=\"#DejaVuSans-64\"/>\n     <use x=\"164.021484\" xlink:href=\"#DejaVuSans-65\"/>\n     <use x=\"225.544922\" xlink:href=\"#DejaVuSans-72\"/>\n     <use x=\"266.658203\" xlink:href=\"#DejaVuSans-5f\"/>\n     <use x=\"316.658203\" xlink:href=\"#DejaVuSans-73\"/>\n     <use x=\"368.757812\" xlink:href=\"#DejaVuSans-63\"/>\n     <use x=\"423.738281\" xlink:href=\"#DejaVuSans-65\"/>\n     <use x=\"485.261719\" xlink:href=\"#DejaVuSans-6e\"/>\n     <use x=\"548.640625\" xlink:href=\"#DejaVuSans-65\"/>\n     <use x=\"610.164062\" xlink:href=\"#DejaVuSans-5f\"/>\n     <use x=\"660.164062\" xlink:href=\"#DejaVuSans-6e\"/>\n     <use x=\"723.542969\" xlink:href=\"#DejaVuSans-61\"/>\n     <use x=\"784.822266\" xlink:href=\"#DejaVuSans-6d\"/>\n     <use x=\"882.234375\" xlink:href=\"#DejaVuSans-65\"/>\n    </g>\n   </g>\n  </g>\n  <g id=\"axes_5\">\n   <g id=\"patch_52\">\n    <path d=\"M 66.33125 1375.218125 \nL 530.5375 1375.218125 \nL 530.5375 980.368125 \nL 66.33125 980.368125 \nz\n\" style=\"fill:#ffffff;\"/>\n   </g>\n   <g id=\"patch_53\">\n    <path clip-path=\"url(#p5419349799)\" d=\"M 70.973313 1375.218125 \nL 108.109813 1375.218125 \nL 108.109813 999.170506 \nL 70.973313 999.170506 \nz\n\" style=\"fill:#3274a1;\"/>\n   </g>\n   <g id=\"patch_54\">\n    <path clip-path=\"url(#p5419349799)\" d=\"M 117.393938 1375.218125 \nL 154.530438 1375.218125 \nL 154.530438 1229.612848 \nL 117.393938 1229.612848 \nz\n\" style=\"fill:#e1812c;\"/>\n   </g>\n   <g id=\"patch_55\">\n    <path clip-path=\"url(#p5419349799)\" d=\"M 163.814563 1375.218125 \nL 200.951063 1375.218125 \nL 200.951063 1235.928102 \nL 163.814563 1235.928102 \nz\n\" style=\"fill:#3a923a;\"/>\n   </g>\n   <g id=\"patch_56\">\n    <path clip-path=\"url(#p5419349799)\" d=\"M 210.235188 1375.218125 \nL 247.371688 1375.218125 \nL 247.371688 1234.607054 \nL 210.235188 1234.607054 \nz\n\" style=\"fill:#c03d3e;\"/>\n   </g>\n   <g id=\"patch_57\">\n    <path clip-path=\"url(#p5419349799)\" d=\"M 256.655813 1375.218125 \nL 293.792313 1375.218125 \nL 293.792313 1217.401208 \nL 256.655813 1217.401208 \nz\n\" style=\"fill:#9372b2;\"/>\n   </g>\n   <g id=\"patch_58\">\n    <path clip-path=\"url(#p5419349799)\" d=\"M 303.076437 1375.218125 \nL 340.212938 1375.218125 \nL 340.212938 1243.693287 \nL 303.076437 1243.693287 \nz\n\" style=\"fill:#845b53;\"/>\n   </g>\n   <g id=\"patch_59\">\n    <path clip-path=\"url(#p5419349799)\" d=\"M 349.497062 1375.218125 \nL 386.633562 1375.218125 \nL 386.633562 1226.390779 \nL 349.497062 1226.390779 \nz\n\" style=\"fill:#d684bd;\"/>\n   </g>\n   <g id=\"patch_60\">\n    <path clip-path=\"url(#p5419349799)\" d=\"M 395.917687 1375.218125 \nL 433.054188 1375.218125 \nL 433.054188 1190.851363 \nL 395.917687 1190.851363 \nz\n\" style=\"fill:#7f7f7f;\"/>\n   </g>\n   <g id=\"patch_61\">\n    <path clip-path=\"url(#p5419349799)\" d=\"M 442.338312 1375.218125 \nL 479.474812 1375.218125 \nL 479.474812 1151.413244 \nL 442.338312 1151.413244 \nz\n\" style=\"fill:#a9aa35;\"/>\n   </g>\n   <g id=\"patch_62\">\n    <path clip-path=\"url(#p5419349799)\" d=\"M 488.758938 1375.218125 \nL 525.895438 1375.218125 \nL 525.895438 1240.277895 \nL 488.758938 1240.277895 \nz\n\" style=\"fill:#2eabb8;\"/>\n   </g>\n   <g id=\"matplotlib.axis_9\">\n    <g id=\"xtick_31\">\n     <g id=\"line2d_83\">\n      <g>\n       <use style=\"stroke:#000000;stroke-width:0.8;\" x=\"89.541563\" xlink:href=\"#m25841fbf0c\" y=\"1375.218125\"/>\n      </g>\n     </g>\n     <g id=\"text_65\">\n      <!-- 12.0 -->\n      <g transform=\"translate(92.300938 1404.48375)rotate(-90)scale(0.1 -0.1)\">\n       <defs>\n        <path d=\"M 684 794 \nL 1344 794 \nL 1344 0 \nL 684 0 \nL 684 794 \nz\n\" id=\"DejaVuSans-2e\" transform=\"scale(0.015625)\"/>\n       </defs>\n       <use xlink:href=\"#DejaVuSans-31\"/>\n       <use x=\"63.623047\" xlink:href=\"#DejaVuSans-32\"/>\n       <use x=\"127.246094\" xlink:href=\"#DejaVuSans-2e\"/>\n       <use x=\"159.033203\" xlink:href=\"#DejaVuSans-30\"/>\n      </g>\n     </g>\n    </g>\n    <g id=\"xtick_32\">\n     <g id=\"line2d_84\">\n      <g>\n       <use style=\"stroke:#000000;stroke-width:0.8;\" x=\"135.962188\" xlink:href=\"#m25841fbf0c\" y=\"1375.218125\"/>\n      </g>\n     </g>\n     <g id=\"text_66\">\n      <!-- 27.0 -->\n      <g transform=\"translate(138.721563 1404.48375)rotate(-90)scale(0.1 -0.1)\">\n       <use xlink:href=\"#DejaVuSans-32\"/>\n       <use x=\"63.623047\" xlink:href=\"#DejaVuSans-37\"/>\n       <use x=\"127.246094\" xlink:href=\"#DejaVuSans-2e\"/>\n       <use x=\"159.033203\" xlink:href=\"#DejaVuSans-30\"/>\n      </g>\n     </g>\n    </g>\n    <g id=\"xtick_33\">\n     <g id=\"line2d_85\">\n      <g>\n       <use style=\"stroke:#000000;stroke-width:0.8;\" x=\"182.382812\" xlink:href=\"#m25841fbf0c\" y=\"1375.218125\"/>\n      </g>\n     </g>\n     <g id=\"text_67\">\n      <!-- 43.0 -->\n      <g transform=\"translate(185.142188 1404.48375)rotate(-90)scale(0.1 -0.1)\">\n       <use xlink:href=\"#DejaVuSans-34\"/>\n       <use x=\"63.623047\" xlink:href=\"#DejaVuSans-33\"/>\n       <use x=\"127.246094\" xlink:href=\"#DejaVuSans-2e\"/>\n       <use x=\"159.033203\" xlink:href=\"#DejaVuSans-30\"/>\n      </g>\n     </g>\n    </g>\n    <g id=\"xtick_34\">\n     <g id=\"line2d_86\">\n      <g>\n       <use style=\"stroke:#000000;stroke-width:0.8;\" x=\"228.803438\" xlink:href=\"#m25841fbf0c\" y=\"1375.218125\"/>\n      </g>\n     </g>\n     <g id=\"text_68\">\n      <!-- 75.0 -->\n      <g transform=\"translate(231.562813 1404.48375)rotate(-90)scale(0.1 -0.1)\">\n       <use xlink:href=\"#DejaVuSans-37\"/>\n       <use x=\"63.623047\" xlink:href=\"#DejaVuSans-35\"/>\n       <use x=\"127.246094\" xlink:href=\"#DejaVuSans-2e\"/>\n       <use x=\"159.033203\" xlink:href=\"#DejaVuSans-30\"/>\n      </g>\n     </g>\n    </g>\n    <g id=\"xtick_35\">\n     <g id=\"line2d_87\">\n      <g>\n       <use style=\"stroke:#000000;stroke-width:0.8;\" x=\"275.224063\" xlink:href=\"#m25841fbf0c\" y=\"1375.218125\"/>\n      </g>\n     </g>\n     <g id=\"text_69\">\n      <!-- 207.0 -->\n      <g transform=\"translate(277.983437 1410.84625)rotate(-90)scale(0.1 -0.1)\">\n       <use xlink:href=\"#DejaVuSans-32\"/>\n       <use x=\"63.623047\" xlink:href=\"#DejaVuSans-30\"/>\n       <use x=\"127.246094\" xlink:href=\"#DejaVuSans-37\"/>\n       <use x=\"190.869141\" xlink:href=\"#DejaVuSans-2e\"/>\n       <use x=\"222.65625\" xlink:href=\"#DejaVuSans-30\"/>\n      </g>\n     </g>\n    </g>\n    <g id=\"xtick_36\">\n     <g id=\"line2d_88\">\n      <g>\n       <use style=\"stroke:#000000;stroke-width:0.8;\" x=\"321.644688\" xlink:href=\"#m25841fbf0c\" y=\"1375.218125\"/>\n      </g>\n     </g>\n     <g id=\"text_70\">\n      <!-- 315.0 -->\n      <g transform=\"translate(324.404063 1410.84625)rotate(-90)scale(0.1 -0.1)\">\n       <use xlink:href=\"#DejaVuSans-33\"/>\n       <use x=\"63.623047\" xlink:href=\"#DejaVuSans-31\"/>\n       <use x=\"127.246094\" xlink:href=\"#DejaVuSans-35\"/>\n       <use x=\"190.869141\" xlink:href=\"#DejaVuSans-2e\"/>\n       <use x=\"222.65625\" xlink:href=\"#DejaVuSans-30\"/>\n      </g>\n     </g>\n    </g>\n    <g id=\"xtick_37\">\n     <g id=\"line2d_89\">\n      <g>\n       <use style=\"stroke:#000000;stroke-width:0.8;\" x=\"368.065313\" xlink:href=\"#m25841fbf0c\" y=\"1375.218125\"/>\n      </g>\n     </g>\n     <g id=\"text_71\">\n      <!-- 331.0 -->\n      <g transform=\"translate(370.824687 1410.84625)rotate(-90)scale(0.1 -0.1)\">\n       <use xlink:href=\"#DejaVuSans-33\"/>\n       <use x=\"63.623047\" xlink:href=\"#DejaVuSans-33\"/>\n       <use x=\"127.246094\" xlink:href=\"#DejaVuSans-31\"/>\n       <use x=\"190.869141\" xlink:href=\"#DejaVuSans-2e\"/>\n       <use x=\"222.65625\" xlink:href=\"#DejaVuSans-30\"/>\n      </g>\n     </g>\n    </g>\n    <g id=\"xtick_38\">\n     <g id=\"line2d_90\">\n      <g>\n       <use style=\"stroke:#000000;stroke-width:0.8;\" x=\"414.485938\" xlink:href=\"#m25841fbf0c\" y=\"1375.218125\"/>\n      </g>\n     </g>\n     <g id=\"text_72\">\n      <!-- 385.0 -->\n      <g transform=\"translate(417.245313 1410.84625)rotate(-90)scale(0.1 -0.1)\">\n       <use xlink:href=\"#DejaVuSans-33\"/>\n       <use x=\"63.623047\" xlink:href=\"#DejaVuSans-38\"/>\n       <use x=\"127.246094\" xlink:href=\"#DejaVuSans-35\"/>\n       <use x=\"190.869141\" xlink:href=\"#DejaVuSans-2e\"/>\n       <use x=\"222.65625\" xlink:href=\"#DejaVuSans-30\"/>\n      </g>\n     </g>\n    </g>\n    <g id=\"xtick_39\">\n     <g id=\"line2d_91\">\n      <g>\n       <use style=\"stroke:#000000;stroke-width:0.8;\" x=\"460.906563\" xlink:href=\"#m25841fbf0c\" y=\"1375.218125\"/>\n      </g>\n     </g>\n     <g id=\"text_73\">\n      <!-- 412.0 -->\n      <g transform=\"translate(463.665937 1410.84625)rotate(-90)scale(0.1 -0.1)\">\n       <use xlink:href=\"#DejaVuSans-34\"/>\n       <use x=\"63.623047\" xlink:href=\"#DejaVuSans-31\"/>\n       <use x=\"127.246094\" xlink:href=\"#DejaVuSans-32\"/>\n       <use x=\"190.869141\" xlink:href=\"#DejaVuSans-2e\"/>\n       <use x=\"222.65625\" xlink:href=\"#DejaVuSans-30\"/>\n      </g>\n     </g>\n    </g>\n    <g id=\"xtick_40\">\n     <g id=\"line2d_92\">\n      <g>\n       <use style=\"stroke:#000000;stroke-width:0.8;\" x=\"507.327187\" xlink:href=\"#m25841fbf0c\" y=\"1375.218125\"/>\n      </g>\n     </g>\n     <g id=\"text_74\">\n      <!-- 554.0 -->\n      <g transform=\"translate(510.086562 1410.84625)rotate(-90)scale(0.1 -0.1)\">\n       <use xlink:href=\"#DejaVuSans-35\"/>\n       <use x=\"63.623047\" xlink:href=\"#DejaVuSans-35\"/>\n       <use x=\"127.246094\" xlink:href=\"#DejaVuSans-34\"/>\n       <use x=\"190.869141\" xlink:href=\"#DejaVuSans-2e\"/>\n       <use x=\"222.65625\" xlink:href=\"#DejaVuSans-30\"/>\n      </g>\n     </g>\n    </g>\n    <g id=\"text_75\">\n     <!-- index -->\n     <g transform=\"translate(284.753906 1422.444688)scale(0.1 -0.1)\">\n      <use xlink:href=\"#DejaVuSans-69\"/>\n      <use x=\"27.783203\" xlink:href=\"#DejaVuSans-6e\"/>\n      <use x=\"91.162109\" xlink:href=\"#DejaVuSans-64\"/>\n      <use x=\"154.638672\" xlink:href=\"#DejaVuSans-65\"/>\n      <use x=\"214.412109\" xlink:href=\"#DejaVuSans-78\"/>\n     </g>\n    </g>\n   </g>\n   <g id=\"matplotlib.axis_10\">\n    <g id=\"ytick_23\">\n     <g id=\"line2d_93\">\n      <g>\n       <use style=\"stroke:#000000;stroke-width:0.8;\" x=\"66.33125\" xlink:href=\"#m5558a4844f\" y=\"1375.218125\"/>\n      </g>\n     </g>\n     <g id=\"text_76\">\n      <!-- 0 -->\n      <g transform=\"translate(52.96875 1379.017344)scale(0.1 -0.1)\">\n       <use xlink:href=\"#DejaVuSans-30\"/>\n      </g>\n     </g>\n    </g>\n    <g id=\"ytick_24\">\n     <g id=\"line2d_94\">\n      <g>\n       <use style=\"stroke:#000000;stroke-width:0.8;\" x=\"66.33125\" xlink:href=\"#m5558a4844f\" y=\"1310.776754\"/>\n      </g>\n     </g>\n     <g id=\"text_77\">\n      <!-- 2000 -->\n      <g transform=\"translate(33.88125 1314.575973)scale(0.1 -0.1)\">\n       <use xlink:href=\"#DejaVuSans-32\"/>\n       <use x=\"63.623047\" xlink:href=\"#DejaVuSans-30\"/>\n       <use x=\"127.246094\" xlink:href=\"#DejaVuSans-30\"/>\n       <use x=\"190.869141\" xlink:href=\"#DejaVuSans-30\"/>\n      </g>\n     </g>\n    </g>\n    <g id=\"ytick_25\">\n     <g id=\"line2d_95\">\n      <g>\n       <use style=\"stroke:#000000;stroke-width:0.8;\" x=\"66.33125\" xlink:href=\"#m5558a4844f\" y=\"1246.335383\"/>\n      </g>\n     </g>\n     <g id=\"text_78\">\n      <!-- 4000 -->\n      <g transform=\"translate(33.88125 1250.134602)scale(0.1 -0.1)\">\n       <use xlink:href=\"#DejaVuSans-34\"/>\n       <use x=\"63.623047\" xlink:href=\"#DejaVuSans-30\"/>\n       <use x=\"127.246094\" xlink:href=\"#DejaVuSans-30\"/>\n       <use x=\"190.869141\" xlink:href=\"#DejaVuSans-30\"/>\n      </g>\n     </g>\n    </g>\n    <g id=\"ytick_26\">\n     <g id=\"line2d_96\">\n      <g>\n       <use style=\"stroke:#000000;stroke-width:0.8;\" x=\"66.33125\" xlink:href=\"#m5558a4844f\" y=\"1181.894013\"/>\n      </g>\n     </g>\n     <g id=\"text_79\">\n      <!-- 6000 -->\n      <g transform=\"translate(33.88125 1185.693231)scale(0.1 -0.1)\">\n       <use xlink:href=\"#DejaVuSans-36\"/>\n       <use x=\"63.623047\" xlink:href=\"#DejaVuSans-30\"/>\n       <use x=\"127.246094\" xlink:href=\"#DejaVuSans-30\"/>\n       <use x=\"190.869141\" xlink:href=\"#DejaVuSans-30\"/>\n      </g>\n     </g>\n    </g>\n    <g id=\"ytick_27\">\n     <g id=\"line2d_97\">\n      <g>\n       <use style=\"stroke:#000000;stroke-width:0.8;\" x=\"66.33125\" xlink:href=\"#m5558a4844f\" y=\"1117.452642\"/>\n      </g>\n     </g>\n     <g id=\"text_80\">\n      <!-- 8000 -->\n      <g transform=\"translate(33.88125 1121.251861)scale(0.1 -0.1)\">\n       <use xlink:href=\"#DejaVuSans-38\"/>\n       <use x=\"63.623047\" xlink:href=\"#DejaVuSans-30\"/>\n       <use x=\"127.246094\" xlink:href=\"#DejaVuSans-30\"/>\n       <use x=\"190.869141\" xlink:href=\"#DejaVuSans-30\"/>\n      </g>\n     </g>\n    </g>\n    <g id=\"ytick_28\">\n     <g id=\"line2d_98\">\n      <g>\n       <use style=\"stroke:#000000;stroke-width:0.8;\" x=\"66.33125\" xlink:href=\"#m5558a4844f\" y=\"1053.011271\"/>\n      </g>\n     </g>\n     <g id=\"text_81\">\n      <!-- 10000 -->\n      <g transform=\"translate(27.51875 1056.81049)scale(0.1 -0.1)\">\n       <use xlink:href=\"#DejaVuSans-31\"/>\n       <use x=\"63.623047\" xlink:href=\"#DejaVuSans-30\"/>\n       <use x=\"127.246094\" xlink:href=\"#DejaVuSans-30\"/>\n       <use x=\"190.869141\" xlink:href=\"#DejaVuSans-30\"/>\n       <use x=\"254.492188\" xlink:href=\"#DejaVuSans-30\"/>\n      </g>\n     </g>\n    </g>\n    <g id=\"ytick_29\">\n     <g id=\"line2d_99\">\n      <g>\n       <use style=\"stroke:#000000;stroke-width:0.8;\" x=\"66.33125\" xlink:href=\"#m5558a4844f\" y=\"988.5699\"/>\n      </g>\n     </g>\n     <g id=\"text_82\">\n      <!-- 12000 -->\n      <g transform=\"translate(27.51875 992.369119)scale(0.1 -0.1)\">\n       <use xlink:href=\"#DejaVuSans-31\"/>\n       <use x=\"63.623047\" xlink:href=\"#DejaVuSans-32\"/>\n       <use x=\"127.246094\" xlink:href=\"#DejaVuSans-30\"/>\n       <use x=\"190.869141\" xlink:href=\"#DejaVuSans-30\"/>\n       <use x=\"254.492188\" xlink:href=\"#DejaVuSans-30\"/>\n      </g>\n     </g>\n    </g>\n    <g id=\"text_83\">\n     <!-- aoi_id -->\n     <g transform=\"translate(21.160938 1192.368906)rotate(-90)scale(0.1 -0.1)\">\n      <use xlink:href=\"#DejaVuSans-61\"/>\n      <use x=\"61.279297\" xlink:href=\"#DejaVuSans-6f\"/>\n      <use x=\"122.460938\" xlink:href=\"#DejaVuSans-69\"/>\n      <use x=\"150.244141\" xlink:href=\"#DejaVuSans-5f\"/>\n      <use x=\"200.244141\" xlink:href=\"#DejaVuSans-69\"/>\n      <use x=\"228.027344\" xlink:href=\"#DejaVuSans-64\"/>\n     </g>\n    </g>\n   </g>\n   <g id=\"line2d_100\">\n    <path clip-path=\"url(#p5419349799)\" style=\"fill:none;stroke:#424242;stroke-linecap:square;stroke-width:2.7;\"/>\n   </g>\n   <g id=\"line2d_101\">\n    <path clip-path=\"url(#p5419349799)\" style=\"fill:none;stroke:#424242;stroke-linecap:square;stroke-width:2.7;\"/>\n   </g>\n   <g id=\"line2d_102\">\n    <path clip-path=\"url(#p5419349799)\" style=\"fill:none;stroke:#424242;stroke-linecap:square;stroke-width:2.7;\"/>\n   </g>\n   <g id=\"line2d_103\">\n    <path clip-path=\"url(#p5419349799)\" style=\"fill:none;stroke:#424242;stroke-linecap:square;stroke-width:2.7;\"/>\n   </g>\n   <g id=\"line2d_104\">\n    <path clip-path=\"url(#p5419349799)\" style=\"fill:none;stroke:#424242;stroke-linecap:square;stroke-width:2.7;\"/>\n   </g>\n   <g id=\"line2d_105\">\n    <path clip-path=\"url(#p5419349799)\" style=\"fill:none;stroke:#424242;stroke-linecap:square;stroke-width:2.7;\"/>\n   </g>\n   <g id=\"line2d_106\">\n    <path clip-path=\"url(#p5419349799)\" style=\"fill:none;stroke:#424242;stroke-linecap:square;stroke-width:2.7;\"/>\n   </g>\n   <g id=\"line2d_107\">\n    <path clip-path=\"url(#p5419349799)\" style=\"fill:none;stroke:#424242;stroke-linecap:square;stroke-width:2.7;\"/>\n   </g>\n   <g id=\"line2d_108\">\n    <path clip-path=\"url(#p5419349799)\" style=\"fill:none;stroke:#424242;stroke-linecap:square;stroke-width:2.7;\"/>\n   </g>\n   <g id=\"line2d_109\">\n    <path clip-path=\"url(#p5419349799)\" style=\"fill:none;stroke:#424242;stroke-linecap:square;stroke-width:2.7;\"/>\n   </g>\n   <g id=\"patch_63\">\n    <path d=\"M 66.33125 1375.218125 \nL 66.33125 980.368125 \n\" style=\"fill:none;stroke:#000000;stroke-linecap:square;stroke-linejoin:miter;stroke-width:0.8;\"/>\n   </g>\n   <g id=\"patch_64\">\n    <path d=\"M 530.5375 1375.218125 \nL 530.5375 980.368125 \n\" style=\"fill:none;stroke:#000000;stroke-linecap:square;stroke-linejoin:miter;stroke-width:0.8;\"/>\n   </g>\n   <g id=\"patch_65\">\n    <path d=\"M 66.33125 1375.218125 \nL 530.5375 1375.218125 \n\" style=\"fill:none;stroke:#000000;stroke-linecap:square;stroke-linejoin:miter;stroke-width:0.8;\"/>\n   </g>\n   <g id=\"patch_66\">\n    <path d=\"M 66.33125 980.368125 \nL 530.5375 980.368125 \n\" style=\"fill:none;stroke:#000000;stroke-linecap:square;stroke-linejoin:miter;stroke-width:0.8;\"/>\n   </g>\n   <g id=\"text_84\">\n    <!-- aoi_id -->\n    <g transform=\"translate(280.943438 974.368125)scale(0.12 -0.12)\">\n     <use xlink:href=\"#DejaVuSans-61\"/>\n     <use x=\"61.279297\" xlink:href=\"#DejaVuSans-6f\"/>\n     <use x=\"122.460938\" xlink:href=\"#DejaVuSans-69\"/>\n     <use x=\"150.244141\" xlink:href=\"#DejaVuSans-5f\"/>\n     <use x=\"200.244141\" xlink:href=\"#DejaVuSans-69\"/>\n     <use x=\"228.027344\" xlink:href=\"#DejaVuSans-64\"/>\n    </g>\n   </g>\n  </g>\n  <g id=\"axes_6\">\n   <g id=\"patch_67\">\n    <path d=\"M 600.86875 1375.218125 \nL 1065.075 1375.218125 \nL 1065.075 980.368125 \nL 600.86875 980.368125 \nz\n\" style=\"fill:#ffffff;\"/>\n   </g>\n   <g id=\"patch_68\">\n    <path clip-path=\"url(#pd948781ade)\" d=\"M 605.510813 1375.218125 \nL 642.647312 1375.218125 \nL 642.647312 999.170506 \nL 605.510813 999.170506 \nz\n\" style=\"fill:#3274a1;\"/>\n   </g>\n   <g id=\"patch_69\">\n    <path clip-path=\"url(#pd948781ade)\" d=\"M 651.931438 1375.218125 \nL 689.067938 1375.218125 \nL 689.067938 1245.567371 \nL 651.931438 1245.567371 \nz\n\" style=\"fill:#e1812c;\"/>\n   </g>\n   <g id=\"patch_70\">\n    <path clip-path=\"url(#pd948781ade)\" d=\"M 698.352063 1375.218125 \nL 735.488563 1375.218125 \nL 735.488563 1332.191076 \nL 698.352063 1332.191076 \nz\n\" style=\"fill:#3a923a;\"/>\n   </g>\n   <g id=\"patch_71\">\n    <path clip-path=\"url(#pd948781ade)\" d=\"M 744.772688 1375.218125 \nL 781.909188 1375.218125 \nL 781.909188 1337.274804 \nL 744.772688 1337.274804 \nz\n\" style=\"fill:#c03d3e;\"/>\n   </g>\n   <g id=\"patch_72\">\n    <path clip-path=\"url(#pd948781ade)\" d=\"M 791.193313 1375.218125 \nL 828.329813 1375.218125 \nL 828.329813 1343.561184 \nL 791.193313 1343.561184 \nz\n\" style=\"fill:#9372b2;\"/>\n   </g>\n   <g id=\"patch_73\">\n    <path clip-path=\"url(#pd948781ade)\" d=\"M 837.613938 1375.218125 \nL 874.750437 1375.218125 \nL 874.750437 1347.511708 \nL 837.613938 1347.511708 \nz\n\" style=\"fill:#845b53;\"/>\n   </g>\n   <g id=\"patch_74\">\n    <path clip-path=\"url(#pd948781ade)\" d=\"M 884.034562 1375.218125 \nL 921.171062 1375.218125 \nL 921.171062 1359.677129 \nL 884.034562 1359.677129 \nz\n\" style=\"fill:#d684bd;\"/>\n   </g>\n   <g id=\"patch_75\">\n    <path clip-path=\"url(#pd948781ade)\" d=\"M 930.455188 1375.218125 \nL 967.591688 1375.218125 \nL 967.591688 1361.992953 \nL 930.455188 1361.992953 \nz\n\" style=\"fill:#7f7f7f;\"/>\n   </g>\n   <g id=\"patch_76\">\n    <path clip-path=\"url(#pd948781ade)\" d=\"M 976.875813 1375.218125 \nL 1014.012313 1375.218125 \nL 1014.012313 1363.502112 \nL 976.875813 1363.502112 \nz\n\" style=\"fill:#a9aa35;\"/>\n   </g>\n   <g id=\"patch_77\">\n    <path clip-path=\"url(#pd948781ade)\" d=\"M 1023.296438 1375.218125 \nL 1060.432938 1375.218125 \nL 1060.432938 1364.812276 \nL 1023.296438 1364.812276 \nz\n\" style=\"fill:#2eabb8;\"/>\n   </g>\n   <g id=\"matplotlib.axis_11\">\n    <g id=\"xtick_41\">\n     <g id=\"line2d_110\">\n      <g>\n       <use style=\"stroke:#000000;stroke-width:0.8;\" x=\"624.079063\" xlink:href=\"#m25841fbf0c\" y=\"1375.218125\"/>\n      </g>\n     </g>\n     <g id=\"text_85\">\n      <!-- 0 -->\n      <g transform=\"translate(626.838438 1388.580625)rotate(-90)scale(0.1 -0.1)\">\n       <use xlink:href=\"#DejaVuSans-30\"/>\n      </g>\n     </g>\n    </g>\n    <g id=\"xtick_42\">\n     <g id=\"line2d_111\">\n      <g>\n       <use style=\"stroke:#000000;stroke-width:0.8;\" x=\"670.499688\" xlink:href=\"#m25841fbf0c\" y=\"1375.218125\"/>\n      </g>\n     </g>\n     <g id=\"text_86\">\n      <!-- 3 -->\n      <g transform=\"translate(673.259063 1388.580625)rotate(-90)scale(0.1 -0.1)\">\n       <use xlink:href=\"#DejaVuSans-33\"/>\n      </g>\n     </g>\n    </g>\n    <g id=\"xtick_43\">\n     <g id=\"line2d_112\">\n      <g>\n       <use style=\"stroke:#000000;stroke-width:0.8;\" x=\"716.920313\" xlink:href=\"#m25841fbf0c\" y=\"1375.218125\"/>\n      </g>\n     </g>\n     <g id=\"text_87\">\n      <!-- 5 -->\n      <g transform=\"translate(719.679688 1388.580625)rotate(-90)scale(0.1 -0.1)\">\n       <use xlink:href=\"#DejaVuSans-35\"/>\n      </g>\n     </g>\n    </g>\n    <g id=\"xtick_44\">\n     <g id=\"line2d_113\">\n      <g>\n       <use style=\"stroke:#000000;stroke-width:0.8;\" x=\"763.340938\" xlink:href=\"#m25841fbf0c\" y=\"1375.218125\"/>\n      </g>\n     </g>\n     <g id=\"text_88\">\n      <!-- 未知 -->\n      <g transform=\"translate(766.100313 1394.22125)rotate(-90)scale(0.1 -0.1)\">\n       <use xlink:href=\"#DejaVuSans-672a\"/>\n       <use x=\"60.009766\" xlink:href=\"#DejaVuSans-77e5\"/>\n      </g>\n     </g>\n    </g>\n    <g id=\"xtick_45\">\n     <g id=\"line2d_114\">\n      <g>\n       <use style=\"stroke:#000000;stroke-width:0.8;\" x=\"809.761563\" xlink:href=\"#m25841fbf0c\" y=\"1375.218125\"/>\n      </g>\n     </g>\n     <g id=\"text_89\">\n      <!-- 7 -->\n      <g transform=\"translate(812.520938 1388.580625)rotate(-90)scale(0.1 -0.1)\">\n       <use xlink:href=\"#DejaVuSans-37\"/>\n      </g>\n     </g>\n    </g>\n    <g id=\"xtick_46\">\n     <g id=\"line2d_115\">\n      <g>\n       <use style=\"stroke:#000000;stroke-width:0.8;\" x=\"856.182188\" xlink:href=\"#m25841fbf0c\" y=\"1375.218125\"/>\n      </g>\n     </g>\n     <g id=\"text_90\">\n      <!-- 4 -->\n      <g transform=\"translate(858.941563 1388.580625)rotate(-90)scale(0.1 -0.1)\">\n       <use xlink:href=\"#DejaVuSans-34\"/>\n      </g>\n     </g>\n    </g>\n    <g id=\"xtick_47\">\n     <g id=\"line2d_116\">\n      <g>\n       <use style=\"stroke:#000000;stroke-width:0.8;\" x=\"902.602813\" xlink:href=\"#m25841fbf0c\" y=\"1375.218125\"/>\n      </g>\n     </g>\n     <g id=\"text_91\">\n      <!-- 11 -->\n      <g transform=\"translate(905.362188 1394.943125)rotate(-90)scale(0.1 -0.1)\">\n       <use xlink:href=\"#DejaVuSans-31\"/>\n       <use x=\"63.623047\" xlink:href=\"#DejaVuSans-31\"/>\n      </g>\n     </g>\n    </g>\n    <g id=\"xtick_48\">\n     <g id=\"line2d_117\">\n      <g>\n       <use style=\"stroke:#000000;stroke-width:0.8;\" x=\"949.023438\" xlink:href=\"#m25841fbf0c\" y=\"1375.218125\"/>\n      </g>\n     </g>\n     <g id=\"text_92\">\n      <!-- 10 -->\n      <g transform=\"translate(951.782813 1394.943125)rotate(-90)scale(0.1 -0.1)\">\n       <use xlink:href=\"#DejaVuSans-31\"/>\n       <use x=\"63.623047\" xlink:href=\"#DejaVuSans-30\"/>\n      </g>\n     </g>\n    </g>\n    <g id=\"xtick_49\">\n     <g id=\"line2d_118\">\n      <g>\n       <use style=\"stroke:#000000;stroke-width:0.8;\" x=\"995.444063\" xlink:href=\"#m25841fbf0c\" y=\"1375.218125\"/>\n      </g>\n     </g>\n     <g id=\"text_93\">\n      <!-- 8 -->\n      <g transform=\"translate(998.203438 1388.580625)rotate(-90)scale(0.1 -0.1)\">\n       <use xlink:href=\"#DejaVuSans-38\"/>\n      </g>\n     </g>\n    </g>\n    <g id=\"xtick_50\">\n     <g id=\"line2d_119\">\n      <g>\n       <use style=\"stroke:#000000;stroke-width:0.8;\" x=\"1041.864687\" xlink:href=\"#m25841fbf0c\" y=\"1375.218125\"/>\n      </g>\n     </g>\n     <g id=\"text_94\">\n      <!-- 6 -->\n      <g transform=\"translate(1044.624063 1388.580625)rotate(-90)scale(0.1 -0.1)\">\n       <use xlink:href=\"#DejaVuSans-36\"/>\n      </g>\n     </g>\n    </g>\n    <g id=\"text_95\">\n     <!-- index -->\n     <g transform=\"translate(819.291406 1406.541563)scale(0.1 -0.1)\">\n      <use xlink:href=\"#DejaVuSans-69\"/>\n      <use x=\"27.783203\" xlink:href=\"#DejaVuSans-6e\"/>\n      <use x=\"91.162109\" xlink:href=\"#DejaVuSans-64\"/>\n      <use x=\"154.638672\" xlink:href=\"#DejaVuSans-65\"/>\n      <use x=\"214.412109\" xlink:href=\"#DejaVuSans-78\"/>\n     </g>\n    </g>\n   </g>\n   <g id=\"matplotlib.axis_12\">\n    <g id=\"ytick_30\">\n     <g id=\"line2d_120\">\n      <g>\n       <use style=\"stroke:#000000;stroke-width:0.8;\" x=\"600.86875\" xlink:href=\"#m5558a4844f\" y=\"1375.218125\"/>\n      </g>\n     </g>\n     <g id=\"text_96\">\n      <!-- 0 -->\n      <g transform=\"translate(587.50625 1379.017344)scale(0.1 -0.1)\">\n       <use xlink:href=\"#DejaVuSans-30\"/>\n      </g>\n     </g>\n    </g>\n    <g id=\"ytick_31\">\n     <g id=\"line2d_121\">\n      <g>\n       <use style=\"stroke:#000000;stroke-width:0.8;\" x=\"600.86875\" xlink:href=\"#m5558a4844f\" y=\"1308.441192\"/>\n      </g>\n     </g>\n     <g id=\"text_97\">\n      <!-- 100000 -->\n      <g transform=\"translate(555.69375 1312.240411)scale(0.1 -0.1)\">\n       <use xlink:href=\"#DejaVuSans-31\"/>\n       <use x=\"63.623047\" xlink:href=\"#DejaVuSans-30\"/>\n       <use x=\"127.246094\" xlink:href=\"#DejaVuSans-30\"/>\n       <use x=\"190.869141\" xlink:href=\"#DejaVuSans-30\"/>\n       <use x=\"254.492188\" xlink:href=\"#DejaVuSans-30\"/>\n       <use x=\"318.115234\" xlink:href=\"#DejaVuSans-30\"/>\n      </g>\n     </g>\n    </g>\n    <g id=\"ytick_32\">\n     <g id=\"line2d_122\">\n      <g>\n       <use style=\"stroke:#000000;stroke-width:0.8;\" x=\"600.86875\" xlink:href=\"#m5558a4844f\" y=\"1241.66426\"/>\n      </g>\n     </g>\n     <g id=\"text_98\">\n      <!-- 200000 -->\n      <g transform=\"translate(555.69375 1245.463478)scale(0.1 -0.1)\">\n       <use xlink:href=\"#DejaVuSans-32\"/>\n       <use x=\"63.623047\" xlink:href=\"#DejaVuSans-30\"/>\n       <use x=\"127.246094\" xlink:href=\"#DejaVuSans-30\"/>\n       <use x=\"190.869141\" xlink:href=\"#DejaVuSans-30\"/>\n       <use x=\"254.492188\" xlink:href=\"#DejaVuSans-30\"/>\n       <use x=\"318.115234\" xlink:href=\"#DejaVuSans-30\"/>\n      </g>\n     </g>\n    </g>\n    <g id=\"ytick_33\">\n     <g id=\"line2d_123\">\n      <g>\n       <use style=\"stroke:#000000;stroke-width:0.8;\" x=\"600.86875\" xlink:href=\"#m5558a4844f\" y=\"1174.887327\"/>\n      </g>\n     </g>\n     <g id=\"text_99\">\n      <!-- 300000 -->\n      <g transform=\"translate(555.69375 1178.686546)scale(0.1 -0.1)\">\n       <use xlink:href=\"#DejaVuSans-33\"/>\n       <use x=\"63.623047\" xlink:href=\"#DejaVuSans-30\"/>\n       <use x=\"127.246094\" xlink:href=\"#DejaVuSans-30\"/>\n       <use x=\"190.869141\" xlink:href=\"#DejaVuSans-30\"/>\n       <use x=\"254.492188\" xlink:href=\"#DejaVuSans-30\"/>\n       <use x=\"318.115234\" xlink:href=\"#DejaVuSans-30\"/>\n      </g>\n     </g>\n    </g>\n    <g id=\"ytick_34\">\n     <g id=\"line2d_124\">\n      <g>\n       <use style=\"stroke:#000000;stroke-width:0.8;\" x=\"600.86875\" xlink:href=\"#m5558a4844f\" y=\"1108.110394\"/>\n      </g>\n     </g>\n     <g id=\"text_100\">\n      <!-- 400000 -->\n      <g transform=\"translate(555.69375 1111.909613)scale(0.1 -0.1)\">\n       <use xlink:href=\"#DejaVuSans-34\"/>\n       <use x=\"63.623047\" xlink:href=\"#DejaVuSans-30\"/>\n       <use x=\"127.246094\" xlink:href=\"#DejaVuSans-30\"/>\n       <use x=\"190.869141\" xlink:href=\"#DejaVuSans-30\"/>\n       <use x=\"254.492188\" xlink:href=\"#DejaVuSans-30\"/>\n       <use x=\"318.115234\" xlink:href=\"#DejaVuSans-30\"/>\n      </g>\n     </g>\n    </g>\n    <g id=\"ytick_35\">\n     <g id=\"line2d_125\">\n      <g>\n       <use style=\"stroke:#000000;stroke-width:0.8;\" x=\"600.86875\" xlink:href=\"#m5558a4844f\" y=\"1041.333461\"/>\n      </g>\n     </g>\n     <g id=\"text_101\">\n      <!-- 500000 -->\n      <g transform=\"translate(555.69375 1045.13268)scale(0.1 -0.1)\">\n       <use xlink:href=\"#DejaVuSans-35\"/>\n       <use x=\"63.623047\" xlink:href=\"#DejaVuSans-30\"/>\n       <use x=\"127.246094\" xlink:href=\"#DejaVuSans-30\"/>\n       <use x=\"190.869141\" xlink:href=\"#DejaVuSans-30\"/>\n       <use x=\"254.492188\" xlink:href=\"#DejaVuSans-30\"/>\n       <use x=\"318.115234\" xlink:href=\"#DejaVuSans-30\"/>\n      </g>\n     </g>\n    </g>\n    <g id=\"text_102\">\n     <!-- takedlvr_aoi_type_name -->\n     <g transform=\"translate(549.335938 1238.548594)rotate(-90)scale(0.1 -0.1)\">\n      <defs>\n       <path d=\"M 581 4863 \nL 1159 4863 \nL 1159 1991 \nL 2875 3500 \nL 3609 3500 \nL 1753 1863 \nL 3688 0 \nL 2938 0 \nL 1159 1709 \nL 1159 0 \nL 581 0 \nL 581 4863 \nz\n\" id=\"DejaVuSans-6b\" transform=\"scale(0.015625)\"/>\n       <path d=\"M 2059 -325 \nQ 1816 -950 1584 -1140 \nQ 1353 -1331 966 -1331 \nL 506 -1331 \nL 506 -850 \nL 844 -850 \nQ 1081 -850 1212 -737 \nQ 1344 -625 1503 -206 \nL 1606 56 \nL 191 3500 \nL 800 3500 \nL 1894 763 \nL 2988 3500 \nL 3597 3500 \nL 2059 -325 \nz\n\" id=\"DejaVuSans-79\" transform=\"scale(0.015625)\"/>\n      </defs>\n      <use xlink:href=\"#DejaVuSans-74\"/>\n      <use x=\"39.208984\" xlink:href=\"#DejaVuSans-61\"/>\n      <use x=\"100.488281\" xlink:href=\"#DejaVuSans-6b\"/>\n      <use x=\"154.773438\" xlink:href=\"#DejaVuSans-65\"/>\n      <use x=\"216.296875\" xlink:href=\"#DejaVuSans-64\"/>\n      <use x=\"279.773438\" xlink:href=\"#DejaVuSans-6c\"/>\n      <use x=\"307.556641\" xlink:href=\"#DejaVuSans-76\"/>\n      <use x=\"366.736328\" xlink:href=\"#DejaVuSans-72\"/>\n      <use x=\"407.849609\" xlink:href=\"#DejaVuSans-5f\"/>\n      <use x=\"457.849609\" xlink:href=\"#DejaVuSans-61\"/>\n      <use x=\"519.128906\" xlink:href=\"#DejaVuSans-6f\"/>\n      <use x=\"580.310547\" xlink:href=\"#DejaVuSans-69\"/>\n      <use x=\"608.09375\" xlink:href=\"#DejaVuSans-5f\"/>\n      <use x=\"658.09375\" xlink:href=\"#DejaVuSans-74\"/>\n      <use x=\"697.302734\" xlink:href=\"#DejaVuSans-79\"/>\n      <use x=\"756.482422\" xlink:href=\"#DejaVuSans-70\"/>\n      <use x=\"819.958984\" xlink:href=\"#DejaVuSans-65\"/>\n      <use x=\"881.482422\" xlink:href=\"#DejaVuSans-5f\"/>\n      <use x=\"931.482422\" xlink:href=\"#DejaVuSans-6e\"/>\n      <use x=\"994.861328\" xlink:href=\"#DejaVuSans-61\"/>\n      <use x=\"1056.140625\" xlink:href=\"#DejaVuSans-6d\"/>\n      <use x=\"1153.552734\" xlink:href=\"#DejaVuSans-65\"/>\n     </g>\n    </g>\n   </g>\n   <g id=\"line2d_126\">\n    <path clip-path=\"url(#pd948781ade)\" style=\"fill:none;stroke:#424242;stroke-linecap:square;stroke-width:2.7;\"/>\n   </g>\n   <g id=\"line2d_127\">\n    <path clip-path=\"url(#pd948781ade)\" style=\"fill:none;stroke:#424242;stroke-linecap:square;stroke-width:2.7;\"/>\n   </g>\n   <g id=\"line2d_128\">\n    <path clip-path=\"url(#pd948781ade)\" style=\"fill:none;stroke:#424242;stroke-linecap:square;stroke-width:2.7;\"/>\n   </g>\n   <g id=\"line2d_129\">\n    <path clip-path=\"url(#pd948781ade)\" style=\"fill:none;stroke:#424242;stroke-linecap:square;stroke-width:2.7;\"/>\n   </g>\n   <g id=\"line2d_130\">\n    <path clip-path=\"url(#pd948781ade)\" style=\"fill:none;stroke:#424242;stroke-linecap:square;stroke-width:2.7;\"/>\n   </g>\n   <g id=\"line2d_131\">\n    <path clip-path=\"url(#pd948781ade)\" style=\"fill:none;stroke:#424242;stroke-linecap:square;stroke-width:2.7;\"/>\n   </g>\n   <g id=\"line2d_132\">\n    <path clip-path=\"url(#pd948781ade)\" style=\"fill:none;stroke:#424242;stroke-linecap:square;stroke-width:2.7;\"/>\n   </g>\n   <g id=\"line2d_133\">\n    <path clip-path=\"url(#pd948781ade)\" style=\"fill:none;stroke:#424242;stroke-linecap:square;stroke-width:2.7;\"/>\n   </g>\n   <g id=\"line2d_134\">\n    <path clip-path=\"url(#pd948781ade)\" style=\"fill:none;stroke:#424242;stroke-linecap:square;stroke-width:2.7;\"/>\n   </g>\n   <g id=\"line2d_135\">\n    <path clip-path=\"url(#pd948781ade)\" style=\"fill:none;stroke:#424242;stroke-linecap:square;stroke-width:2.7;\"/>\n   </g>\n   <g id=\"patch_78\">\n    <path d=\"M 600.86875 1375.218125 \nL 600.86875 980.368125 \n\" style=\"fill:none;stroke:#000000;stroke-linecap:square;stroke-linejoin:miter;stroke-width:0.8;\"/>\n   </g>\n   <g id=\"patch_79\">\n    <path d=\"M 1065.075 1375.218125 \nL 1065.075 980.368125 \n\" style=\"fill:none;stroke:#000000;stroke-linecap:square;stroke-linejoin:miter;stroke-width:0.8;\"/>\n   </g>\n   <g id=\"patch_80\">\n    <path d=\"M 600.86875 1375.218125 \nL 1065.075 1375.218125 \n\" style=\"fill:none;stroke:#000000;stroke-linecap:square;stroke-linejoin:miter;stroke-width:0.8;\"/>\n   </g>\n   <g id=\"patch_81\">\n    <path d=\"M 600.86875 980.368125 \nL 1065.075 980.368125 \n\" style=\"fill:none;stroke:#000000;stroke-linecap:square;stroke-linejoin:miter;stroke-width:0.8;\"/>\n   </g>\n   <g id=\"text_103\">\n    <!-- takedlvr_aoi_type_name -->\n    <g transform=\"translate(760.065313 974.368125)scale(0.12 -0.12)\">\n     <use xlink:href=\"#DejaVuSans-74\"/>\n     <use x=\"39.208984\" xlink:href=\"#DejaVuSans-61\"/>\n     <use x=\"100.488281\" xlink:href=\"#DejaVuSans-6b\"/>\n     <use x=\"154.773438\" xlink:href=\"#DejaVuSans-65\"/>\n     <use x=\"216.296875\" xlink:href=\"#DejaVuSans-64\"/>\n     <use x=\"279.773438\" xlink:href=\"#DejaVuSans-6c\"/>\n     <use x=\"307.556641\" xlink:href=\"#DejaVuSans-76\"/>\n     <use x=\"366.736328\" xlink:href=\"#DejaVuSans-72\"/>\n     <use x=\"407.849609\" xlink:href=\"#DejaVuSans-5f\"/>\n     <use x=\"457.849609\" xlink:href=\"#DejaVuSans-61\"/>\n     <use x=\"519.128906\" xlink:href=\"#DejaVuSans-6f\"/>\n     <use x=\"580.310547\" xlink:href=\"#DejaVuSans-69\"/>\n     <use x=\"608.09375\" xlink:href=\"#DejaVuSans-5f\"/>\n     <use x=\"658.09375\" xlink:href=\"#DejaVuSans-74\"/>\n     <use x=\"697.302734\" xlink:href=\"#DejaVuSans-79\"/>\n     <use x=\"756.482422\" xlink:href=\"#DejaVuSans-70\"/>\n     <use x=\"819.958984\" xlink:href=\"#DejaVuSans-65\"/>\n     <use x=\"881.482422\" xlink:href=\"#DejaVuSans-5f\"/>\n     <use x=\"931.482422\" xlink:href=\"#DejaVuSans-6e\"/>\n     <use x=\"994.861328\" xlink:href=\"#DejaVuSans-61\"/>\n     <use x=\"1056.140625\" xlink:href=\"#DejaVuSans-6d\"/>\n     <use x=\"1153.552734\" xlink:href=\"#DejaVuSans-65\"/>\n    </g>\n   </g>\n  </g>\n </g>\n <defs>\n  <clipPath id=\"p390ab2a02e\">\n   <rect height=\"394.85\" width=\"464.20625\" x=\"66.33125\" y=\"22.318125\"/>\n  </clipPath>\n  <clipPath id=\"p30c027592b\">\n   <rect height=\"394.85\" width=\"464.20625\" x=\"600.86875\" y=\"22.318125\"/>\n  </clipPath>\n  <clipPath id=\"p906c01793b\">\n   <rect height=\"394.85\" width=\"464.20625\" x=\"66.33125\" y=\"501.343125\"/>\n  </clipPath>\n  <clipPath id=\"p4a4471b4c0\">\n   <rect height=\"394.85\" width=\"464.20625\" x=\"600.86875\" y=\"501.343125\"/>\n  </clipPath>\n  <clipPath id=\"p5419349799\">\n   <rect height=\"394.85\" width=\"464.20625\" x=\"66.33125\" y=\"980.368125\"/>\n  </clipPath>\n  <clipPath id=\"pd948781ade\">\n   <rect height=\"394.85\" width=\"464.20625\" x=\"600.86875\" y=\"980.368125\"/>\n  </clipPath>\n </defs>\n</svg>\n",
      "image/png": "[encoded data removed]"
     },
     "metadata": {
      "needs_background": "light"
     }
    }
   ],
   "metadata": {}
  },
  {
   "cell_type": "code",
   "execution_count": 36,
   "source": [
    "d_train.aor_id.value_counts()"
   ],
   "outputs": [
    {
     "output_type": "execute_result",
     "data": {
      "text/plain": [
       "0     246279\n",
       "6     171812\n",
       "3     102033\n",
       "10     99322\n",
       "8      86951\n",
       "9      85076\n",
       "1      69802\n",
       "5      66357\n",
       "2      59090\n",
       "4      49647\n",
       "7      35504\n",
       "Name: aor_id, dtype: int64"
      ]
     },
     "metadata": {},
     "execution_count": 36
    }
   ],
   "metadata": {}
  },
  {
   "cell_type": "code",
   "execution_count": 37,
   "source": [
    "d_train.order_scene_name.value_counts()"
   ],
   "outputs": [
    {
     "output_type": "execute_result",
     "data": {
      "text/plain": [
       "0     529986\n",
       "1     177313\n",
       "未知     89595\n",
       "6      63992\n",
       "2      57433\n",
       "4      54771\n",
       "5      37533\n",
       "3      26970\n",
       "7      21301\n",
       "8      12979\n",
       "Name: order_scene_name, dtype: int64"
      ]
     },
     "metadata": {},
     "execution_count": 37
    }
   ],
   "metadata": {}
  },
  {
   "cell_type": "code",
   "execution_count": null,
   "source": [],
   "outputs": [],
   "metadata": {}
  },
  {
   "cell_type": "code",
   "execution_count": null,
   "source": [],
   "outputs": [],
   "metadata": {}
  },
  {
   "cell_type": "markdown",
   "source": [
    "## 用户分析\n",
    "\n",
    "\n"
   ],
   "metadata": {}
  },
  {
   "cell_type": "code",
   "execution_count": 16,
   "source": [
    "d_test.drop_duplicates('user_id').user_id.isin(d_train.user_id).sum()"
   ],
   "outputs": [
    {
     "output_type": "execute_result",
     "data": {
      "text/plain": [
       "91221"
      ]
     },
     "metadata": {},
     "execution_count": 16
    }
   ],
   "metadata": {}
  },
  {
   "cell_type": "code",
   "execution_count": null,
   "source": [],
   "outputs": [],
   "metadata": {}
  }
 ],
 "metadata": {
  "kernelspec": {
   "name": "python3",
   "display_name": "Python 3.9.1 64-bit ('base': conda)"
  },
  "language_info": {
   "name": "python",
   "version": "3.9.1",
   "mimetype": "text/x-python",
   "codemirror_mode": {
    "name": "ipython",
    "version": 3
   },
   "pygments_lexer": "ipython3",
   "nbconvert_exporter": "python",
   "file_extension": ".py"
  },
  "interpreter": {
   "hash": "4cb345e5995351b08239625019270e7486068dae039023ace02d3945e56a61ff"
  }
 },
 "nbformat": 4,
 "nbformat_minor": 2
}